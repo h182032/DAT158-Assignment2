{
 "cells": [
  {
   "cell_type": "markdown",
   "metadata": {},
   "source": []
  },
  {
   "cell_type": "markdown",
   "metadata": {},
   "source": [
    "## Housing prices\n",
    "\n",
    "Det er mye som påvirker en boligpris, mye mer enn antall soverom eller hvor mange peiser det er i huset. \n",
    "På dette datasettet skal jeg se på 79 ulike variabler som beskriver nesten alle aspektene ved boliger i Ames.\n",
    "Også er tanken at man til slutt skal ende opp med å forutsi den endelige prisen på boligen."
   ]
  },
  {
   "cell_type": "markdown",
   "metadata": {},
   "source": [
    "## Setup"
   ]
  },
  {
   "cell_type": "code",
   "execution_count": 1,
   "metadata": {},
   "outputs": [],
   "source": [
    "import pandas as pd\n",
    "import numpy as np\n",
    "import math\n",
    "import matplotlib.pyplot as plt\n",
    "\n",
    "import seaborn as sns"
   ]
  },
  {
   "cell_type": "code",
   "execution_count": 2,
   "metadata": {},
   "outputs": [
    {
     "data": {
      "text/plain": [
       "<Figure size 864x360 with 0 Axes>"
      ]
     },
     "metadata": {},
     "output_type": "display_data"
    }
   ],
   "source": [
    "sns.set(rc={'figure.figsize':(12,5)});\n",
    "plt.figure(figsize=(12,5));"
   ]
  },
  {
   "cell_type": "code",
   "execution_count": 3,
   "metadata": {},
   "outputs": [],
   "source": [
    "np.random.seed(42)"
   ]
  },
  {
   "cell_type": "code",
   "execution_count": 4,
   "metadata": {},
   "outputs": [],
   "source": [
    "%matplotlib inline\n",
    "import matplotlib\n",
    "import matplotlib.pyplot as plt\n",
    "plt.rcParams['axes.labelsize'] = 14\n",
    "plt.rcParams['xtick.labelsize'] = 12\n",
    "plt.rcParams['ytick.labelsize'] = 12\n",
    "\n",
    "import warnings\n",
    "warnings.filterwarnings(action=\"ignore\", message=\"^internal gelsd\")"
   ]
  },
  {
   "cell_type": "markdown",
   "metadata": {},
   "source": [
    "## Get the data"
   ]
  },
  {
   "cell_type": "code",
   "execution_count": 5,
   "metadata": {},
   "outputs": [],
   "source": [
    "final_test = pd.read_csv('Datasets/test.csv')\n",
    "df = pd.read_csv('Datasets/train.csv')\n",
    "\n",
    "#test = pd.read_csv('Datasets/test.csv')\n",
    "\n",
    "OriginalData = df.copy()"
   ]
  },
  {
   "cell_type": "code",
   "execution_count": 6,
   "metadata": {},
   "outputs": [
    {
     "data": {
      "text/html": [
       "<div>\n",
       "<style scoped>\n",
       "    .dataframe tbody tr th:only-of-type {\n",
       "        vertical-align: middle;\n",
       "    }\n",
       "\n",
       "    .dataframe tbody tr th {\n",
       "        vertical-align: top;\n",
       "    }\n",
       "\n",
       "    .dataframe thead th {\n",
       "        text-align: right;\n",
       "    }\n",
       "</style>\n",
       "<table border=\"1\" class=\"dataframe\">\n",
       "  <thead>\n",
       "    <tr style=\"text-align: right;\">\n",
       "      <th></th>\n",
       "      <th>Id</th>\n",
       "      <th>MSSubClass</th>\n",
       "      <th>MSZoning</th>\n",
       "      <th>LotFrontage</th>\n",
       "      <th>LotArea</th>\n",
       "      <th>Street</th>\n",
       "      <th>Alley</th>\n",
       "      <th>LotShape</th>\n",
       "      <th>LandContour</th>\n",
       "      <th>Utilities</th>\n",
       "      <th>...</th>\n",
       "      <th>PoolArea</th>\n",
       "      <th>PoolQC</th>\n",
       "      <th>Fence</th>\n",
       "      <th>MiscFeature</th>\n",
       "      <th>MiscVal</th>\n",
       "      <th>MoSold</th>\n",
       "      <th>YrSold</th>\n",
       "      <th>SaleType</th>\n",
       "      <th>SaleCondition</th>\n",
       "      <th>SalePrice</th>\n",
       "    </tr>\n",
       "  </thead>\n",
       "  <tbody>\n",
       "    <tr>\n",
       "      <th>0</th>\n",
       "      <td>1</td>\n",
       "      <td>60</td>\n",
       "      <td>RL</td>\n",
       "      <td>65.0</td>\n",
       "      <td>8450</td>\n",
       "      <td>Pave</td>\n",
       "      <td>NaN</td>\n",
       "      <td>Reg</td>\n",
       "      <td>Lvl</td>\n",
       "      <td>AllPub</td>\n",
       "      <td>...</td>\n",
       "      <td>0</td>\n",
       "      <td>NaN</td>\n",
       "      <td>NaN</td>\n",
       "      <td>NaN</td>\n",
       "      <td>0</td>\n",
       "      <td>2</td>\n",
       "      <td>2008</td>\n",
       "      <td>WD</td>\n",
       "      <td>Normal</td>\n",
       "      <td>208500</td>\n",
       "    </tr>\n",
       "    <tr>\n",
       "      <th>1</th>\n",
       "      <td>2</td>\n",
       "      <td>20</td>\n",
       "      <td>RL</td>\n",
       "      <td>80.0</td>\n",
       "      <td>9600</td>\n",
       "      <td>Pave</td>\n",
       "      <td>NaN</td>\n",
       "      <td>Reg</td>\n",
       "      <td>Lvl</td>\n",
       "      <td>AllPub</td>\n",
       "      <td>...</td>\n",
       "      <td>0</td>\n",
       "      <td>NaN</td>\n",
       "      <td>NaN</td>\n",
       "      <td>NaN</td>\n",
       "      <td>0</td>\n",
       "      <td>5</td>\n",
       "      <td>2007</td>\n",
       "      <td>WD</td>\n",
       "      <td>Normal</td>\n",
       "      <td>181500</td>\n",
       "    </tr>\n",
       "    <tr>\n",
       "      <th>2</th>\n",
       "      <td>3</td>\n",
       "      <td>60</td>\n",
       "      <td>RL</td>\n",
       "      <td>68.0</td>\n",
       "      <td>11250</td>\n",
       "      <td>Pave</td>\n",
       "      <td>NaN</td>\n",
       "      <td>IR1</td>\n",
       "      <td>Lvl</td>\n",
       "      <td>AllPub</td>\n",
       "      <td>...</td>\n",
       "      <td>0</td>\n",
       "      <td>NaN</td>\n",
       "      <td>NaN</td>\n",
       "      <td>NaN</td>\n",
       "      <td>0</td>\n",
       "      <td>9</td>\n",
       "      <td>2008</td>\n",
       "      <td>WD</td>\n",
       "      <td>Normal</td>\n",
       "      <td>223500</td>\n",
       "    </tr>\n",
       "    <tr>\n",
       "      <th>3</th>\n",
       "      <td>4</td>\n",
       "      <td>70</td>\n",
       "      <td>RL</td>\n",
       "      <td>60.0</td>\n",
       "      <td>9550</td>\n",
       "      <td>Pave</td>\n",
       "      <td>NaN</td>\n",
       "      <td>IR1</td>\n",
       "      <td>Lvl</td>\n",
       "      <td>AllPub</td>\n",
       "      <td>...</td>\n",
       "      <td>0</td>\n",
       "      <td>NaN</td>\n",
       "      <td>NaN</td>\n",
       "      <td>NaN</td>\n",
       "      <td>0</td>\n",
       "      <td>2</td>\n",
       "      <td>2006</td>\n",
       "      <td>WD</td>\n",
       "      <td>Abnorml</td>\n",
       "      <td>140000</td>\n",
       "    </tr>\n",
       "    <tr>\n",
       "      <th>4</th>\n",
       "      <td>5</td>\n",
       "      <td>60</td>\n",
       "      <td>RL</td>\n",
       "      <td>84.0</td>\n",
       "      <td>14260</td>\n",
       "      <td>Pave</td>\n",
       "      <td>NaN</td>\n",
       "      <td>IR1</td>\n",
       "      <td>Lvl</td>\n",
       "      <td>AllPub</td>\n",
       "      <td>...</td>\n",
       "      <td>0</td>\n",
       "      <td>NaN</td>\n",
       "      <td>NaN</td>\n",
       "      <td>NaN</td>\n",
       "      <td>0</td>\n",
       "      <td>12</td>\n",
       "      <td>2008</td>\n",
       "      <td>WD</td>\n",
       "      <td>Normal</td>\n",
       "      <td>250000</td>\n",
       "    </tr>\n",
       "  </tbody>\n",
       "</table>\n",
       "<p>5 rows × 81 columns</p>\n",
       "</div>"
      ],
      "text/plain": [
       "   Id  MSSubClass MSZoning  LotFrontage  LotArea Street Alley LotShape  \\\n",
       "0   1          60       RL         65.0     8450   Pave   NaN      Reg   \n",
       "1   2          20       RL         80.0     9600   Pave   NaN      Reg   \n",
       "2   3          60       RL         68.0    11250   Pave   NaN      IR1   \n",
       "3   4          70       RL         60.0     9550   Pave   NaN      IR1   \n",
       "4   5          60       RL         84.0    14260   Pave   NaN      IR1   \n",
       "\n",
       "  LandContour Utilities    ...     PoolArea PoolQC Fence MiscFeature MiscVal  \\\n",
       "0         Lvl    AllPub    ...            0    NaN   NaN         NaN       0   \n",
       "1         Lvl    AllPub    ...            0    NaN   NaN         NaN       0   \n",
       "2         Lvl    AllPub    ...            0    NaN   NaN         NaN       0   \n",
       "3         Lvl    AllPub    ...            0    NaN   NaN         NaN       0   \n",
       "4         Lvl    AllPub    ...            0    NaN   NaN         NaN       0   \n",
       "\n",
       "  MoSold YrSold  SaleType  SaleCondition  SalePrice  \n",
       "0      2   2008        WD         Normal     208500  \n",
       "1      5   2007        WD         Normal     181500  \n",
       "2      9   2008        WD         Normal     223500  \n",
       "3      2   2006        WD        Abnorml     140000  \n",
       "4     12   2008        WD         Normal     250000  \n",
       "\n",
       "[5 rows x 81 columns]"
      ]
     },
     "execution_count": 6,
     "metadata": {},
     "output_type": "execute_result"
    }
   ],
   "source": [
    "df.head()"
   ]
  },
  {
   "cell_type": "code",
   "execution_count": 7,
   "metadata": {},
   "outputs": [
    {
     "data": {
      "text/html": [
       "<div>\n",
       "<style scoped>\n",
       "    .dataframe tbody tr th:only-of-type {\n",
       "        vertical-align: middle;\n",
       "    }\n",
       "\n",
       "    .dataframe tbody tr th {\n",
       "        vertical-align: top;\n",
       "    }\n",
       "\n",
       "    .dataframe thead th {\n",
       "        text-align: right;\n",
       "    }\n",
       "</style>\n",
       "<table border=\"1\" class=\"dataframe\">\n",
       "  <thead>\n",
       "    <tr style=\"text-align: right;\">\n",
       "      <th></th>\n",
       "      <th>Id</th>\n",
       "      <th>MSSubClass</th>\n",
       "      <th>MSZoning</th>\n",
       "      <th>LotFrontage</th>\n",
       "      <th>LotArea</th>\n",
       "      <th>Street</th>\n",
       "      <th>Alley</th>\n",
       "      <th>LotShape</th>\n",
       "      <th>LandContour</th>\n",
       "      <th>Utilities</th>\n",
       "      <th>...</th>\n",
       "      <th>ScreenPorch</th>\n",
       "      <th>PoolArea</th>\n",
       "      <th>PoolQC</th>\n",
       "      <th>Fence</th>\n",
       "      <th>MiscFeature</th>\n",
       "      <th>MiscVal</th>\n",
       "      <th>MoSold</th>\n",
       "      <th>YrSold</th>\n",
       "      <th>SaleType</th>\n",
       "      <th>SaleCondition</th>\n",
       "    </tr>\n",
       "  </thead>\n",
       "  <tbody>\n",
       "    <tr>\n",
       "      <th>0</th>\n",
       "      <td>1461</td>\n",
       "      <td>20</td>\n",
       "      <td>RH</td>\n",
       "      <td>80.0</td>\n",
       "      <td>11622</td>\n",
       "      <td>Pave</td>\n",
       "      <td>NaN</td>\n",
       "      <td>Reg</td>\n",
       "      <td>Lvl</td>\n",
       "      <td>AllPub</td>\n",
       "      <td>...</td>\n",
       "      <td>120</td>\n",
       "      <td>0</td>\n",
       "      <td>NaN</td>\n",
       "      <td>MnPrv</td>\n",
       "      <td>NaN</td>\n",
       "      <td>0</td>\n",
       "      <td>6</td>\n",
       "      <td>2010</td>\n",
       "      <td>WD</td>\n",
       "      <td>Normal</td>\n",
       "    </tr>\n",
       "    <tr>\n",
       "      <th>1</th>\n",
       "      <td>1462</td>\n",
       "      <td>20</td>\n",
       "      <td>RL</td>\n",
       "      <td>81.0</td>\n",
       "      <td>14267</td>\n",
       "      <td>Pave</td>\n",
       "      <td>NaN</td>\n",
       "      <td>IR1</td>\n",
       "      <td>Lvl</td>\n",
       "      <td>AllPub</td>\n",
       "      <td>...</td>\n",
       "      <td>0</td>\n",
       "      <td>0</td>\n",
       "      <td>NaN</td>\n",
       "      <td>NaN</td>\n",
       "      <td>Gar2</td>\n",
       "      <td>12500</td>\n",
       "      <td>6</td>\n",
       "      <td>2010</td>\n",
       "      <td>WD</td>\n",
       "      <td>Normal</td>\n",
       "    </tr>\n",
       "    <tr>\n",
       "      <th>2</th>\n",
       "      <td>1463</td>\n",
       "      <td>60</td>\n",
       "      <td>RL</td>\n",
       "      <td>74.0</td>\n",
       "      <td>13830</td>\n",
       "      <td>Pave</td>\n",
       "      <td>NaN</td>\n",
       "      <td>IR1</td>\n",
       "      <td>Lvl</td>\n",
       "      <td>AllPub</td>\n",
       "      <td>...</td>\n",
       "      <td>0</td>\n",
       "      <td>0</td>\n",
       "      <td>NaN</td>\n",
       "      <td>MnPrv</td>\n",
       "      <td>NaN</td>\n",
       "      <td>0</td>\n",
       "      <td>3</td>\n",
       "      <td>2010</td>\n",
       "      <td>WD</td>\n",
       "      <td>Normal</td>\n",
       "    </tr>\n",
       "    <tr>\n",
       "      <th>3</th>\n",
       "      <td>1464</td>\n",
       "      <td>60</td>\n",
       "      <td>RL</td>\n",
       "      <td>78.0</td>\n",
       "      <td>9978</td>\n",
       "      <td>Pave</td>\n",
       "      <td>NaN</td>\n",
       "      <td>IR1</td>\n",
       "      <td>Lvl</td>\n",
       "      <td>AllPub</td>\n",
       "      <td>...</td>\n",
       "      <td>0</td>\n",
       "      <td>0</td>\n",
       "      <td>NaN</td>\n",
       "      <td>NaN</td>\n",
       "      <td>NaN</td>\n",
       "      <td>0</td>\n",
       "      <td>6</td>\n",
       "      <td>2010</td>\n",
       "      <td>WD</td>\n",
       "      <td>Normal</td>\n",
       "    </tr>\n",
       "    <tr>\n",
       "      <th>4</th>\n",
       "      <td>1465</td>\n",
       "      <td>120</td>\n",
       "      <td>RL</td>\n",
       "      <td>43.0</td>\n",
       "      <td>5005</td>\n",
       "      <td>Pave</td>\n",
       "      <td>NaN</td>\n",
       "      <td>IR1</td>\n",
       "      <td>HLS</td>\n",
       "      <td>AllPub</td>\n",
       "      <td>...</td>\n",
       "      <td>144</td>\n",
       "      <td>0</td>\n",
       "      <td>NaN</td>\n",
       "      <td>NaN</td>\n",
       "      <td>NaN</td>\n",
       "      <td>0</td>\n",
       "      <td>1</td>\n",
       "      <td>2010</td>\n",
       "      <td>WD</td>\n",
       "      <td>Normal</td>\n",
       "    </tr>\n",
       "  </tbody>\n",
       "</table>\n",
       "<p>5 rows × 80 columns</p>\n",
       "</div>"
      ],
      "text/plain": [
       "     Id  MSSubClass MSZoning  LotFrontage  LotArea Street Alley LotShape  \\\n",
       "0  1461          20       RH         80.0    11622   Pave   NaN      Reg   \n",
       "1  1462          20       RL         81.0    14267   Pave   NaN      IR1   \n",
       "2  1463          60       RL         74.0    13830   Pave   NaN      IR1   \n",
       "3  1464          60       RL         78.0     9978   Pave   NaN      IR1   \n",
       "4  1465         120       RL         43.0     5005   Pave   NaN      IR1   \n",
       "\n",
       "  LandContour Utilities      ...       ScreenPorch PoolArea PoolQC  Fence  \\\n",
       "0         Lvl    AllPub      ...               120        0    NaN  MnPrv   \n",
       "1         Lvl    AllPub      ...                 0        0    NaN    NaN   \n",
       "2         Lvl    AllPub      ...                 0        0    NaN  MnPrv   \n",
       "3         Lvl    AllPub      ...                 0        0    NaN    NaN   \n",
       "4         HLS    AllPub      ...               144        0    NaN    NaN   \n",
       "\n",
       "  MiscFeature MiscVal MoSold  YrSold  SaleType  SaleCondition  \n",
       "0         NaN       0      6    2010        WD         Normal  \n",
       "1        Gar2   12500      6    2010        WD         Normal  \n",
       "2         NaN       0      3    2010        WD         Normal  \n",
       "3         NaN       0      6    2010        WD         Normal  \n",
       "4         NaN       0      1    2010        WD         Normal  \n",
       "\n",
       "[5 rows x 80 columns]"
      ]
     },
     "execution_count": 7,
     "metadata": {},
     "output_type": "execute_result"
    }
   ],
   "source": [
    "final_test.head()"
   ]
  },
  {
   "cell_type": "code",
   "execution_count": 8,
   "metadata": {},
   "outputs": [
    {
     "data": {
      "text/html": [
       "<div>\n",
       "<style scoped>\n",
       "    .dataframe tbody tr th:only-of-type {\n",
       "        vertical-align: middle;\n",
       "    }\n",
       "\n",
       "    .dataframe tbody tr th {\n",
       "        vertical-align: top;\n",
       "    }\n",
       "\n",
       "    .dataframe thead th {\n",
       "        text-align: right;\n",
       "    }\n",
       "</style>\n",
       "<table border=\"1\" class=\"dataframe\">\n",
       "  <thead>\n",
       "    <tr style=\"text-align: right;\">\n",
       "      <th></th>\n",
       "      <th>Id</th>\n",
       "      <th>MSSubClass</th>\n",
       "      <th>LotFrontage</th>\n",
       "      <th>LotArea</th>\n",
       "      <th>OverallQual</th>\n",
       "      <th>OverallCond</th>\n",
       "      <th>YearBuilt</th>\n",
       "      <th>YearRemodAdd</th>\n",
       "      <th>MasVnrArea</th>\n",
       "      <th>BsmtFinSF1</th>\n",
       "      <th>...</th>\n",
       "      <th>WoodDeckSF</th>\n",
       "      <th>OpenPorchSF</th>\n",
       "      <th>EnclosedPorch</th>\n",
       "      <th>3SsnPorch</th>\n",
       "      <th>ScreenPorch</th>\n",
       "      <th>PoolArea</th>\n",
       "      <th>MiscVal</th>\n",
       "      <th>MoSold</th>\n",
       "      <th>YrSold</th>\n",
       "      <th>SalePrice</th>\n",
       "    </tr>\n",
       "  </thead>\n",
       "  <tbody>\n",
       "    <tr>\n",
       "      <th>count</th>\n",
       "      <td>1460.000000</td>\n",
       "      <td>1460.000000</td>\n",
       "      <td>1201.000000</td>\n",
       "      <td>1460.000000</td>\n",
       "      <td>1460.000000</td>\n",
       "      <td>1460.000000</td>\n",
       "      <td>1460.000000</td>\n",
       "      <td>1460.000000</td>\n",
       "      <td>1452.000000</td>\n",
       "      <td>1460.000000</td>\n",
       "      <td>...</td>\n",
       "      <td>1460.000000</td>\n",
       "      <td>1460.000000</td>\n",
       "      <td>1460.000000</td>\n",
       "      <td>1460.000000</td>\n",
       "      <td>1460.000000</td>\n",
       "      <td>1460.000000</td>\n",
       "      <td>1460.000000</td>\n",
       "      <td>1460.000000</td>\n",
       "      <td>1460.000000</td>\n",
       "      <td>1460.000000</td>\n",
       "    </tr>\n",
       "    <tr>\n",
       "      <th>mean</th>\n",
       "      <td>730.500000</td>\n",
       "      <td>56.897260</td>\n",
       "      <td>70.049958</td>\n",
       "      <td>10516.828082</td>\n",
       "      <td>6.099315</td>\n",
       "      <td>5.575342</td>\n",
       "      <td>1971.267808</td>\n",
       "      <td>1984.865753</td>\n",
       "      <td>103.685262</td>\n",
       "      <td>443.639726</td>\n",
       "      <td>...</td>\n",
       "      <td>94.244521</td>\n",
       "      <td>46.660274</td>\n",
       "      <td>21.954110</td>\n",
       "      <td>3.409589</td>\n",
       "      <td>15.060959</td>\n",
       "      <td>2.758904</td>\n",
       "      <td>43.489041</td>\n",
       "      <td>6.321918</td>\n",
       "      <td>2007.815753</td>\n",
       "      <td>180921.195890</td>\n",
       "    </tr>\n",
       "    <tr>\n",
       "      <th>std</th>\n",
       "      <td>421.610009</td>\n",
       "      <td>42.300571</td>\n",
       "      <td>24.284752</td>\n",
       "      <td>9981.264932</td>\n",
       "      <td>1.382997</td>\n",
       "      <td>1.112799</td>\n",
       "      <td>30.202904</td>\n",
       "      <td>20.645407</td>\n",
       "      <td>181.066207</td>\n",
       "      <td>456.098091</td>\n",
       "      <td>...</td>\n",
       "      <td>125.338794</td>\n",
       "      <td>66.256028</td>\n",
       "      <td>61.119149</td>\n",
       "      <td>29.317331</td>\n",
       "      <td>55.757415</td>\n",
       "      <td>40.177307</td>\n",
       "      <td>496.123024</td>\n",
       "      <td>2.703626</td>\n",
       "      <td>1.328095</td>\n",
       "      <td>79442.502883</td>\n",
       "    </tr>\n",
       "    <tr>\n",
       "      <th>min</th>\n",
       "      <td>1.000000</td>\n",
       "      <td>20.000000</td>\n",
       "      <td>21.000000</td>\n",
       "      <td>1300.000000</td>\n",
       "      <td>1.000000</td>\n",
       "      <td>1.000000</td>\n",
       "      <td>1872.000000</td>\n",
       "      <td>1950.000000</td>\n",
       "      <td>0.000000</td>\n",
       "      <td>0.000000</td>\n",
       "      <td>...</td>\n",
       "      <td>0.000000</td>\n",
       "      <td>0.000000</td>\n",
       "      <td>0.000000</td>\n",
       "      <td>0.000000</td>\n",
       "      <td>0.000000</td>\n",
       "      <td>0.000000</td>\n",
       "      <td>0.000000</td>\n",
       "      <td>1.000000</td>\n",
       "      <td>2006.000000</td>\n",
       "      <td>34900.000000</td>\n",
       "    </tr>\n",
       "    <tr>\n",
       "      <th>25%</th>\n",
       "      <td>365.750000</td>\n",
       "      <td>20.000000</td>\n",
       "      <td>59.000000</td>\n",
       "      <td>7553.500000</td>\n",
       "      <td>5.000000</td>\n",
       "      <td>5.000000</td>\n",
       "      <td>1954.000000</td>\n",
       "      <td>1967.000000</td>\n",
       "      <td>0.000000</td>\n",
       "      <td>0.000000</td>\n",
       "      <td>...</td>\n",
       "      <td>0.000000</td>\n",
       "      <td>0.000000</td>\n",
       "      <td>0.000000</td>\n",
       "      <td>0.000000</td>\n",
       "      <td>0.000000</td>\n",
       "      <td>0.000000</td>\n",
       "      <td>0.000000</td>\n",
       "      <td>5.000000</td>\n",
       "      <td>2007.000000</td>\n",
       "      <td>129975.000000</td>\n",
       "    </tr>\n",
       "    <tr>\n",
       "      <th>50%</th>\n",
       "      <td>730.500000</td>\n",
       "      <td>50.000000</td>\n",
       "      <td>69.000000</td>\n",
       "      <td>9478.500000</td>\n",
       "      <td>6.000000</td>\n",
       "      <td>5.000000</td>\n",
       "      <td>1973.000000</td>\n",
       "      <td>1994.000000</td>\n",
       "      <td>0.000000</td>\n",
       "      <td>383.500000</td>\n",
       "      <td>...</td>\n",
       "      <td>0.000000</td>\n",
       "      <td>25.000000</td>\n",
       "      <td>0.000000</td>\n",
       "      <td>0.000000</td>\n",
       "      <td>0.000000</td>\n",
       "      <td>0.000000</td>\n",
       "      <td>0.000000</td>\n",
       "      <td>6.000000</td>\n",
       "      <td>2008.000000</td>\n",
       "      <td>163000.000000</td>\n",
       "    </tr>\n",
       "    <tr>\n",
       "      <th>75%</th>\n",
       "      <td>1095.250000</td>\n",
       "      <td>70.000000</td>\n",
       "      <td>80.000000</td>\n",
       "      <td>11601.500000</td>\n",
       "      <td>7.000000</td>\n",
       "      <td>6.000000</td>\n",
       "      <td>2000.000000</td>\n",
       "      <td>2004.000000</td>\n",
       "      <td>166.000000</td>\n",
       "      <td>712.250000</td>\n",
       "      <td>...</td>\n",
       "      <td>168.000000</td>\n",
       "      <td>68.000000</td>\n",
       "      <td>0.000000</td>\n",
       "      <td>0.000000</td>\n",
       "      <td>0.000000</td>\n",
       "      <td>0.000000</td>\n",
       "      <td>0.000000</td>\n",
       "      <td>8.000000</td>\n",
       "      <td>2009.000000</td>\n",
       "      <td>214000.000000</td>\n",
       "    </tr>\n",
       "    <tr>\n",
       "      <th>max</th>\n",
       "      <td>1460.000000</td>\n",
       "      <td>190.000000</td>\n",
       "      <td>313.000000</td>\n",
       "      <td>215245.000000</td>\n",
       "      <td>10.000000</td>\n",
       "      <td>9.000000</td>\n",
       "      <td>2010.000000</td>\n",
       "      <td>2010.000000</td>\n",
       "      <td>1600.000000</td>\n",
       "      <td>5644.000000</td>\n",
       "      <td>...</td>\n",
       "      <td>857.000000</td>\n",
       "      <td>547.000000</td>\n",
       "      <td>552.000000</td>\n",
       "      <td>508.000000</td>\n",
       "      <td>480.000000</td>\n",
       "      <td>738.000000</td>\n",
       "      <td>15500.000000</td>\n",
       "      <td>12.000000</td>\n",
       "      <td>2010.000000</td>\n",
       "      <td>755000.000000</td>\n",
       "    </tr>\n",
       "  </tbody>\n",
       "</table>\n",
       "<p>8 rows × 38 columns</p>\n",
       "</div>"
      ],
      "text/plain": [
       "                Id   MSSubClass  LotFrontage        LotArea  OverallQual  \\\n",
       "count  1460.000000  1460.000000  1201.000000    1460.000000  1460.000000   \n",
       "mean    730.500000    56.897260    70.049958   10516.828082     6.099315   \n",
       "std     421.610009    42.300571    24.284752    9981.264932     1.382997   \n",
       "min       1.000000    20.000000    21.000000    1300.000000     1.000000   \n",
       "25%     365.750000    20.000000    59.000000    7553.500000     5.000000   \n",
       "50%     730.500000    50.000000    69.000000    9478.500000     6.000000   \n",
       "75%    1095.250000    70.000000    80.000000   11601.500000     7.000000   \n",
       "max    1460.000000   190.000000   313.000000  215245.000000    10.000000   \n",
       "\n",
       "       OverallCond    YearBuilt  YearRemodAdd   MasVnrArea   BsmtFinSF1  \\\n",
       "count  1460.000000  1460.000000   1460.000000  1452.000000  1460.000000   \n",
       "mean      5.575342  1971.267808   1984.865753   103.685262   443.639726   \n",
       "std       1.112799    30.202904     20.645407   181.066207   456.098091   \n",
       "min       1.000000  1872.000000   1950.000000     0.000000     0.000000   \n",
       "25%       5.000000  1954.000000   1967.000000     0.000000     0.000000   \n",
       "50%       5.000000  1973.000000   1994.000000     0.000000   383.500000   \n",
       "75%       6.000000  2000.000000   2004.000000   166.000000   712.250000   \n",
       "max       9.000000  2010.000000   2010.000000  1600.000000  5644.000000   \n",
       "\n",
       "           ...         WoodDeckSF  OpenPorchSF  EnclosedPorch    3SsnPorch  \\\n",
       "count      ...        1460.000000  1460.000000    1460.000000  1460.000000   \n",
       "mean       ...          94.244521    46.660274      21.954110     3.409589   \n",
       "std        ...         125.338794    66.256028      61.119149    29.317331   \n",
       "min        ...           0.000000     0.000000       0.000000     0.000000   \n",
       "25%        ...           0.000000     0.000000       0.000000     0.000000   \n",
       "50%        ...           0.000000    25.000000       0.000000     0.000000   \n",
       "75%        ...         168.000000    68.000000       0.000000     0.000000   \n",
       "max        ...         857.000000   547.000000     552.000000   508.000000   \n",
       "\n",
       "       ScreenPorch     PoolArea       MiscVal       MoSold       YrSold  \\\n",
       "count  1460.000000  1460.000000   1460.000000  1460.000000  1460.000000   \n",
       "mean     15.060959     2.758904     43.489041     6.321918  2007.815753   \n",
       "std      55.757415    40.177307    496.123024     2.703626     1.328095   \n",
       "min       0.000000     0.000000      0.000000     1.000000  2006.000000   \n",
       "25%       0.000000     0.000000      0.000000     5.000000  2007.000000   \n",
       "50%       0.000000     0.000000      0.000000     6.000000  2008.000000   \n",
       "75%       0.000000     0.000000      0.000000     8.000000  2009.000000   \n",
       "max     480.000000   738.000000  15500.000000    12.000000  2010.000000   \n",
       "\n",
       "           SalePrice  \n",
       "count    1460.000000  \n",
       "mean   180921.195890  \n",
       "std     79442.502883  \n",
       "min     34900.000000  \n",
       "25%    129975.000000  \n",
       "50%    163000.000000  \n",
       "75%    214000.000000  \n",
       "max    755000.000000  \n",
       "\n",
       "[8 rows x 38 columns]"
      ]
     },
     "execution_count": 8,
     "metadata": {},
     "output_type": "execute_result"
    }
   ],
   "source": [
    "df.describe()"
   ]
  },
  {
   "cell_type": "code",
   "execution_count": 9,
   "metadata": {},
   "outputs": [
    {
     "name": "stdout",
     "output_type": "stream",
     "text": [
      "<class 'pandas.core.frame.DataFrame'>\n",
      "RangeIndex: 1460 entries, 0 to 1459\n",
      "Data columns (total 81 columns):\n",
      "Id               1460 non-null int64\n",
      "MSSubClass       1460 non-null int64\n",
      "MSZoning         1460 non-null object\n",
      "LotFrontage      1201 non-null float64\n",
      "LotArea          1460 non-null int64\n",
      "Street           1460 non-null object\n",
      "Alley            91 non-null object\n",
      "LotShape         1460 non-null object\n",
      "LandContour      1460 non-null object\n",
      "Utilities        1460 non-null object\n",
      "LotConfig        1460 non-null object\n",
      "LandSlope        1460 non-null object\n",
      "Neighborhood     1460 non-null object\n",
      "Condition1       1460 non-null object\n",
      "Condition2       1460 non-null object\n",
      "BldgType         1460 non-null object\n",
      "HouseStyle       1460 non-null object\n",
      "OverallQual      1460 non-null int64\n",
      "OverallCond      1460 non-null int64\n",
      "YearBuilt        1460 non-null int64\n",
      "YearRemodAdd     1460 non-null int64\n",
      "RoofStyle        1460 non-null object\n",
      "RoofMatl         1460 non-null object\n",
      "Exterior1st      1460 non-null object\n",
      "Exterior2nd      1460 non-null object\n",
      "MasVnrType       1452 non-null object\n",
      "MasVnrArea       1452 non-null float64\n",
      "ExterQual        1460 non-null object\n",
      "ExterCond        1460 non-null object\n",
      "Foundation       1460 non-null object\n",
      "BsmtQual         1423 non-null object\n",
      "BsmtCond         1423 non-null object\n",
      "BsmtExposure     1422 non-null object\n",
      "BsmtFinType1     1423 non-null object\n",
      "BsmtFinSF1       1460 non-null int64\n",
      "BsmtFinType2     1422 non-null object\n",
      "BsmtFinSF2       1460 non-null int64\n",
      "BsmtUnfSF        1460 non-null int64\n",
      "TotalBsmtSF      1460 non-null int64\n",
      "Heating          1460 non-null object\n",
      "HeatingQC        1460 non-null object\n",
      "CentralAir       1460 non-null object\n",
      "Electrical       1459 non-null object\n",
      "1stFlrSF         1460 non-null int64\n",
      "2ndFlrSF         1460 non-null int64\n",
      "LowQualFinSF     1460 non-null int64\n",
      "GrLivArea        1460 non-null int64\n",
      "BsmtFullBath     1460 non-null int64\n",
      "BsmtHalfBath     1460 non-null int64\n",
      "FullBath         1460 non-null int64\n",
      "HalfBath         1460 non-null int64\n",
      "BedroomAbvGr     1460 non-null int64\n",
      "KitchenAbvGr     1460 non-null int64\n",
      "KitchenQual      1460 non-null object\n",
      "TotRmsAbvGrd     1460 non-null int64\n",
      "Functional       1460 non-null object\n",
      "Fireplaces       1460 non-null int64\n",
      "FireplaceQu      770 non-null object\n",
      "GarageType       1379 non-null object\n",
      "GarageYrBlt      1379 non-null float64\n",
      "GarageFinish     1379 non-null object\n",
      "GarageCars       1460 non-null int64\n",
      "GarageArea       1460 non-null int64\n",
      "GarageQual       1379 non-null object\n",
      "GarageCond       1379 non-null object\n",
      "PavedDrive       1460 non-null object\n",
      "WoodDeckSF       1460 non-null int64\n",
      "OpenPorchSF      1460 non-null int64\n",
      "EnclosedPorch    1460 non-null int64\n",
      "3SsnPorch        1460 non-null int64\n",
      "ScreenPorch      1460 non-null int64\n",
      "PoolArea         1460 non-null int64\n",
      "PoolQC           7 non-null object\n",
      "Fence            281 non-null object\n",
      "MiscFeature      54 non-null object\n",
      "MiscVal          1460 non-null int64\n",
      "MoSold           1460 non-null int64\n",
      "YrSold           1460 non-null int64\n",
      "SaleType         1460 non-null object\n",
      "SaleCondition    1460 non-null object\n",
      "SalePrice        1460 non-null int64\n",
      "dtypes: float64(3), int64(35), object(43)\n",
      "memory usage: 924.0+ KB\n"
     ]
    }
   ],
   "source": [
    "df.info()"
   ]
  },
  {
   "cell_type": "code",
   "execution_count": 10,
   "metadata": {},
   "outputs": [
    {
     "data": {
      "text/html": [
       "<div>\n",
       "<style scoped>\n",
       "    .dataframe tbody tr th:only-of-type {\n",
       "        vertical-align: middle;\n",
       "    }\n",
       "\n",
       "    .dataframe tbody tr th {\n",
       "        vertical-align: top;\n",
       "    }\n",
       "\n",
       "    .dataframe thead th {\n",
       "        text-align: right;\n",
       "    }\n",
       "</style>\n",
       "<table border=\"1\" class=\"dataframe\">\n",
       "  <thead>\n",
       "    <tr style=\"text-align: right;\">\n",
       "      <th></th>\n",
       "      <th>Id</th>\n",
       "      <th>MSSubClass</th>\n",
       "      <th>MSZoning</th>\n",
       "      <th>LotFrontage</th>\n",
       "      <th>LotArea</th>\n",
       "      <th>Street</th>\n",
       "      <th>Alley</th>\n",
       "      <th>LotShape</th>\n",
       "      <th>LandContour</th>\n",
       "      <th>Utilities</th>\n",
       "      <th>...</th>\n",
       "      <th>PoolArea</th>\n",
       "      <th>PoolQC</th>\n",
       "      <th>Fence</th>\n",
       "      <th>MiscFeature</th>\n",
       "      <th>MiscVal</th>\n",
       "      <th>MoSold</th>\n",
       "      <th>YrSold</th>\n",
       "      <th>SaleType</th>\n",
       "      <th>SaleCondition</th>\n",
       "      <th>SalePrice</th>\n",
       "    </tr>\n",
       "  </thead>\n",
       "  <tbody>\n",
       "  </tbody>\n",
       "</table>\n",
       "<p>0 rows × 81 columns</p>\n",
       "</div>"
      ],
      "text/plain": [
       "Empty DataFrame\n",
       "Columns: [Id, MSSubClass, MSZoning, LotFrontage, LotArea, Street, Alley, LotShape, LandContour, Utilities, LotConfig, LandSlope, Neighborhood, Condition1, Condition2, BldgType, HouseStyle, OverallQual, OverallCond, YearBuilt, YearRemodAdd, RoofStyle, RoofMatl, Exterior1st, Exterior2nd, MasVnrType, MasVnrArea, ExterQual, ExterCond, Foundation, BsmtQual, BsmtCond, BsmtExposure, BsmtFinType1, BsmtFinSF1, BsmtFinType2, BsmtFinSF2, BsmtUnfSF, TotalBsmtSF, Heating, HeatingQC, CentralAir, Electrical, 1stFlrSF, 2ndFlrSF, LowQualFinSF, GrLivArea, BsmtFullBath, BsmtHalfBath, FullBath, HalfBath, BedroomAbvGr, KitchenAbvGr, KitchenQual, TotRmsAbvGrd, Functional, Fireplaces, FireplaceQu, GarageType, GarageYrBlt, GarageFinish, GarageCars, GarageArea, GarageQual, GarageCond, PavedDrive, WoodDeckSF, OpenPorchSF, EnclosedPorch, 3SsnPorch, ScreenPorch, PoolArea, PoolQC, Fence, MiscFeature, MiscVal, MoSold, YrSold, SaleType, SaleCondition, SalePrice]\n",
       "Index: []\n",
       "\n",
       "[0 rows x 81 columns]"
      ]
     },
     "execution_count": 10,
     "metadata": {},
     "output_type": "execute_result"
    }
   ],
   "source": [
    "df.iloc[:0]"
   ]
  },
  {
   "cell_type": "markdown",
   "metadata": {},
   "source": [
    "Her analyserer man salgsprisen, som man kan se er minimums prisen større enn 0.\n",
    "Da vet man at man ikke har noe som kan ødelegged[\"SalePrice\"].describe()"
   ]
  },
  {
   "cell_type": "code",
   "execution_count": 11,
   "metadata": {},
   "outputs": [
    {
     "data": {
      "text/plain": [
       "count      1460.000000\n",
       "mean     180921.195890\n",
       "std       79442.502883\n",
       "min       34900.000000\n",
       "25%      129975.000000\n",
       "50%      163000.000000\n",
       "75%      214000.000000\n",
       "max      755000.000000\n",
       "Name: SalePrice, dtype: float64"
      ]
     },
     "execution_count": 11,
     "metadata": {},
     "output_type": "execute_result"
    }
   ],
   "source": [
    "df[\"SalePrice\"].describe()"
   ]
  },
  {
   "cell_type": "code",
   "execution_count": 12,
   "metadata": {},
   "outputs": [],
   "source": [
    "dfId = df.Id\n",
    "testId = final_test.Id"
   ]
  },
  {
   "cell_type": "markdown",
   "metadata": {},
   "source": [
    "## Discover and visualize the data to gain insights"
   ]
  },
  {
   "cell_type": "markdown",
   "metadata": {},
   "source": [
    "Under ser man på forhold mellom tall variabler, her er Salgsprisen og kvadratfot over bakken plottet mot hverandre\n",
    "ved hjelp av scatterplot.\n",
    "Man kan se at disse to variablene har et linæert forhold. Jo større boligen er i kvadratfot, jo dyrere blir boligen"
   ]
  },
  {
   "cell_type": "code",
   "execution_count": 13,
   "metadata": {},
   "outputs": [
    {
     "data": {
      "image/png": "[encoded data removed]",
      "text/plain": [
       "<Figure size 432x288 with 1 Axes>"
      ]
     },
     "metadata": {
      "needs_background": "light"
     },
     "output_type": "display_data"
    }
   ],
   "source": [
    "fig, ax = plt.subplots()\n",
    "ax.scatter(x = df['GrLivArea'], y = df['SalePrice'])\n",
    "plt.ylabel('SalePrice', fontsize=13)\n",
    "plt.xlabel('GrLivArea', fontsize=13)\n",
    "plt.show()"
   ]
  },
  {
   "cell_type": "code",
   "execution_count": 14,
   "metadata": {},
   "outputs": [
    {
     "data": {
      "text/plain": [
       "count    1460.000000\n",
       "mean        6.099315\n",
       "std         1.382997\n",
       "min         1.000000\n",
       "25%         5.000000\n",
       "50%         6.000000\n",
       "75%         7.000000\n",
       "max        10.000000\n",
       "Name: OverallQual, dtype: float64"
      ]
     },
     "execution_count": 14,
     "metadata": {},
     "output_type": "execute_result"
    }
   ],
   "source": [
    "df[\"OverallQual\"].describe()"
   ]
  },
  {
   "cell_type": "markdown",
   "metadata": {},
   "source": [
    "Man kan tenke seg at den helhetlige standarden/kvaiteten på et hus har noe å si når det kommer til salgsprisen på en bolig.\n",
    "OverallQual er delt opp i 10 ulike kategorier. Man kan se at de fleste boligene tilhører kategori 6 - Above average. Når kvaliteten på et hus øker, så øker også prisen"
   ]
  },
  {
   "cell_type": "code",
   "execution_count": 15,
   "metadata": {},
   "outputs": [
    {
     "data": {
      "image/png": "[encoded data removed]",
      "text/plain": [
       "<Figure size 576x432 with 1 Axes>"
      ]
     },
     "metadata": {
      "needs_background": "light"
     },
     "output_type": "display_data"
    }
   ],
   "source": [
    "var = 'OverallQual'\n",
    "data = pd.concat([df['SalePrice'], df[var]], axis=1)\n",
    "f, ax = plt.subplots(figsize=(8, 6))\n",
    "fig = sns.boxplot(x=var, y=\"SalePrice\", data=data)\n",
    "fig.axis(ymin=0, ymax=800000);"
   ]
  },
  {
   "cell_type": "code",
   "execution_count": 16,
   "metadata": {},
   "outputs": [],
   "source": [
    "corr_matrix = df.corr()"
   ]
  },
  {
   "cell_type": "markdown",
   "metadata": {},
   "source": [
    "Ved å bruke corr() metoden kan vi enkelt beregne standar korrelasjons koeffisienten mellom hver par av atributter.\n",
    "\n",
    "Under får man ut korrelasjons verdiene, for å se forholdet imellom de ulie atributtene. Men kan se at noen atributter ikke har noe forhold til salgsprisen, de som er rundt 0.0 De atributtene som er nærmere 1.0 eller -1.0 har et sterkt forhold til saleprice Man kunne se over at forholdet mellom OverallQual og SalePrice var sterkt fra boxplottet, dette har vi nå fått bekreftet"
   ]
  },
  {
   "cell_type": "code",
   "execution_count": 17,
   "metadata": {},
   "outputs": [
    {
     "data": {
      "text/plain": [
       "SalePrice        1.000000\n",
       "OverallQual      0.790982\n",
       "GrLivArea        0.708624\n",
       "GarageCars       0.640409\n",
       "GarageArea       0.623431\n",
       "TotalBsmtSF      0.613581\n",
       "1stFlrSF         0.605852\n",
       "FullBath         0.560664\n",
       "TotRmsAbvGrd     0.533723\n",
       "YearBuilt        0.522897\n",
       "YearRemodAdd     0.507101\n",
       "GarageYrBlt      0.486362\n",
       "MasVnrArea       0.477493\n",
       "Fireplaces       0.466929\n",
       "BsmtFinSF1       0.386420\n",
       "LotFrontage      0.351799\n",
       "WoodDeckSF       0.324413\n",
       "2ndFlrSF         0.319334\n",
       "OpenPorchSF      0.315856\n",
       "HalfBath         0.284108\n",
       "LotArea          0.263843\n",
       "BsmtFullBath     0.227122\n",
       "BsmtUnfSF        0.214479\n",
       "BedroomAbvGr     0.168213\n",
       "ScreenPorch      0.111447\n",
       "PoolArea         0.092404\n",
       "MoSold           0.046432\n",
       "3SsnPorch        0.044584\n",
       "BsmtFinSF2      -0.011378\n",
       "BsmtHalfBath    -0.016844\n",
       "MiscVal         -0.021190\n",
       "Id              -0.021917\n",
       "LowQualFinSF    -0.025606\n",
       "YrSold          -0.028923\n",
       "OverallCond     -0.077856\n",
       "MSSubClass      -0.084284\n",
       "EnclosedPorch   -0.128578\n",
       "KitchenAbvGr    -0.135907\n",
       "Name: SalePrice, dtype: float64"
      ]
     },
     "execution_count": 17,
     "metadata": {},
     "output_type": "execute_result"
    }
   ],
   "source": [
    "corr_matrix[\"SalePrice\"].sort_values(ascending=False)"
   ]
  },
  {
   "cell_type": "code",
   "execution_count": 18,
   "metadata": {},
   "outputs": [
    {
     "data": {
      "image/png": "[encoded data removed]",
      "text/plain": [
       "<Figure size 432x288 with 2 Axes>"
      ]
     },
     "metadata": {},
     "output_type": "display_data"
    }
   ],
   "source": [
    "#saleprice correlation matrix\n",
    "k = 10 #Tar bare med 10 atributter i dette \n",
    "cols = corr_matrix.nlargest(k, 'SalePrice')['SalePrice'].index\n",
    "cm = np.corrcoef(df[cols].values.T)\n",
    "sns.set(font_scale=1.25)\n",
    "hm = sns.heatmap(cm, cbar=True, annot=True, square=True, fmt='.2f', annot_kws={'size': 10}, yticklabels=cols.values, xticklabels=cols.values)\n",
    "plt.show()"
   ]
  },
  {
   "cell_type": "markdown",
   "metadata": {},
   "source": [
    "## Prepare the data for Machine Learning algorithms "
   ]
  },
  {
   "cell_type": "markdown",
   "metadata": {},
   "source": [
    "Håndtering av manglende data. Under finner man ut hvilke kolonner som har manglende data og hvor mange prosent av dataen som faktisk mangler. Man får ut 20 atributter i stigende rekkefølge."
   ]
  },
  {
   "cell_type": "code",
   "execution_count": 19,
   "metadata": {
    "scrolled": true
   },
   "outputs": [
    {
     "data": {
      "text/html": [
       "<div>\n",
       "<style scoped>\n",
       "    .dataframe tbody tr th:only-of-type {\n",
       "        vertical-align: middle;\n",
       "    }\n",
       "\n",
       "    .dataframe tbody tr th {\n",
       "        vertical-align: top;\n",
       "    }\n",
       "\n",
       "    .dataframe thead th {\n",
       "        text-align: right;\n",
       "    }\n",
       "</style>\n",
       "<table border=\"1\" class=\"dataframe\">\n",
       "  <thead>\n",
       "    <tr style=\"text-align: right;\">\n",
       "      <th></th>\n",
       "      <th>Total</th>\n",
       "      <th>Percent</th>\n",
       "    </tr>\n",
       "  </thead>\n",
       "  <tbody>\n",
       "    <tr>\n",
       "      <th>PoolQC</th>\n",
       "      <td>1453</td>\n",
       "      <td>0.995205</td>\n",
       "    </tr>\n",
       "    <tr>\n",
       "      <th>MiscFeature</th>\n",
       "      <td>1406</td>\n",
       "      <td>0.963014</td>\n",
       "    </tr>\n",
       "    <tr>\n",
       "      <th>Alley</th>\n",
       "      <td>1369</td>\n",
       "      <td>0.937671</td>\n",
       "    </tr>\n",
       "    <tr>\n",
       "      <th>Fence</th>\n",
       "      <td>1179</td>\n",
       "      <td>0.807534</td>\n",
       "    </tr>\n",
       "    <tr>\n",
       "      <th>FireplaceQu</th>\n",
       "      <td>690</td>\n",
       "      <td>0.472603</td>\n",
       "    </tr>\n",
       "    <tr>\n",
       "      <th>LotFrontage</th>\n",
       "      <td>259</td>\n",
       "      <td>0.177397</td>\n",
       "    </tr>\n",
       "    <tr>\n",
       "      <th>GarageCond</th>\n",
       "      <td>81</td>\n",
       "      <td>0.055479</td>\n",
       "    </tr>\n",
       "    <tr>\n",
       "      <th>GarageType</th>\n",
       "      <td>81</td>\n",
       "      <td>0.055479</td>\n",
       "    </tr>\n",
       "    <tr>\n",
       "      <th>GarageYrBlt</th>\n",
       "      <td>81</td>\n",
       "      <td>0.055479</td>\n",
       "    </tr>\n",
       "    <tr>\n",
       "      <th>GarageFinish</th>\n",
       "      <td>81</td>\n",
       "      <td>0.055479</td>\n",
       "    </tr>\n",
       "    <tr>\n",
       "      <th>GarageQual</th>\n",
       "      <td>81</td>\n",
       "      <td>0.055479</td>\n",
       "    </tr>\n",
       "    <tr>\n",
       "      <th>BsmtExposure</th>\n",
       "      <td>38</td>\n",
       "      <td>0.026027</td>\n",
       "    </tr>\n",
       "    <tr>\n",
       "      <th>BsmtFinType2</th>\n",
       "      <td>38</td>\n",
       "      <td>0.026027</td>\n",
       "    </tr>\n",
       "    <tr>\n",
       "      <th>BsmtFinType1</th>\n",
       "      <td>37</td>\n",
       "      <td>0.025342</td>\n",
       "    </tr>\n",
       "    <tr>\n",
       "      <th>BsmtCond</th>\n",
       "      <td>37</td>\n",
       "      <td>0.025342</td>\n",
       "    </tr>\n",
       "    <tr>\n",
       "      <th>BsmtQual</th>\n",
       "      <td>37</td>\n",
       "      <td>0.025342</td>\n",
       "    </tr>\n",
       "    <tr>\n",
       "      <th>MasVnrArea</th>\n",
       "      <td>8</td>\n",
       "      <td>0.005479</td>\n",
       "    </tr>\n",
       "    <tr>\n",
       "      <th>MasVnrType</th>\n",
       "      <td>8</td>\n",
       "      <td>0.005479</td>\n",
       "    </tr>\n",
       "    <tr>\n",
       "      <th>Electrical</th>\n",
       "      <td>1</td>\n",
       "      <td>0.000685</td>\n",
       "    </tr>\n",
       "    <tr>\n",
       "      <th>Utilities</th>\n",
       "      <td>0</td>\n",
       "      <td>0.000000</td>\n",
       "    </tr>\n",
       "  </tbody>\n",
       "</table>\n",
       "</div>"
      ],
      "text/plain": [
       "              Total   Percent\n",
       "PoolQC         1453  0.995205\n",
       "MiscFeature    1406  0.963014\n",
       "Alley          1369  0.937671\n",
       "Fence          1179  0.807534\n",
       "FireplaceQu     690  0.472603\n",
       "LotFrontage     259  0.177397\n",
       "GarageCond       81  0.055479\n",
       "GarageType       81  0.055479\n",
       "GarageYrBlt      81  0.055479\n",
       "GarageFinish     81  0.055479\n",
       "GarageQual       81  0.055479\n",
       "BsmtExposure     38  0.026027\n",
       "BsmtFinType2     38  0.026027\n",
       "BsmtFinType1     37  0.025342\n",
       "BsmtCond         37  0.025342\n",
       "BsmtQual         37  0.025342\n",
       "MasVnrArea        8  0.005479\n",
       "MasVnrType        8  0.005479\n",
       "Electrical        1  0.000685\n",
       "Utilities         0  0.000000"
      ]
     },
     "execution_count": 19,
     "metadata": {},
     "output_type": "execute_result"
    }
   ],
   "source": [
    "total = df.isnull().sum().sort_values(ascending=False)\n",
    "percent = (df.isnull().sum()/df.isnull().count()).sort_values(ascending=False)\n",
    "missing_data = pd.concat([total, percent], axis=1, keys=['Total', 'Percent'])\n",
    "missing_data.head(20)"
   ]
  },
  {
   "cell_type": "markdown",
   "metadata": {},
   "source": [
    "Det er en manglende observasjon i Electrical, der den er NaN. \n",
    "Siden det bare er en, fjerner vi bare denne og beholder attributten.\n",
    "Ellers så har man fjernet alle atributtene med manglende data"
   ]
  },
  {
   "cell_type": "code",
   "execution_count": 20,
   "metadata": {},
   "outputs": [
    {
     "data": {
      "text/plain": [
       "0"
      ]
     },
     "execution_count": 20,
     "metadata": {},
     "output_type": "execute_result"
    }
   ],
   "source": [
    "df = df.drop((missing_data[missing_data['Total'] > 1]).index,1)\n",
    "df = df.drop(df.loc[df['Electrical'].isnull()].index)\n",
    "df.isnull().sum().max()"
   ]
  },
  {
   "cell_type": "markdown",
   "metadata": {},
   "source": [
    "De verdiene som ikke hadde noe sterkt forhold til SalePrice med korrelasjons verdiene tar jeg og fjerner, altså de som var ganske nær 0.0 i corr_matrix.\n",
    "Atributtene jeg dropper under, har ikke så mye å si for helheten på datasettet, derfor fjerner jeg de"
   ]
  },
  {
   "cell_type": "code",
   "execution_count": 21,
   "metadata": {},
   "outputs": [],
   "source": [
    "df = df.drop(['MoSold', '3SsnPorch', 'BsmtFinSF2', 'BsmtHalfBath', 'MiscVal', 'LowQualFinSF', 'YrSold'], axis=1)"
   ]
  },
  {
   "cell_type": "code",
   "execution_count": 22,
   "metadata": {
    "scrolled": true
   },
   "outputs": [
    {
     "name": "stdout",
     "output_type": "stream",
     "text": [
      "<class 'pandas.core.frame.DataFrame'>\n",
      "Int64Index: 1459 entries, 0 to 1459\n",
      "Data columns (total 56 columns):\n",
      "Id               1459 non-null int64\n",
      "MSSubClass       1459 non-null int64\n",
      "MSZoning         1459 non-null object\n",
      "LotArea          1459 non-null int64\n",
      "Street           1459 non-null object\n",
      "LotShape         1459 non-null object\n",
      "LandContour      1459 non-null object\n",
      "Utilities        1459 non-null object\n",
      "LotConfig        1459 non-null object\n",
      "LandSlope        1459 non-null object\n",
      "Neighborhood     1459 non-null object\n",
      "Condition1       1459 non-null object\n",
      "Condition2       1459 non-null object\n",
      "BldgType         1459 non-null object\n",
      "HouseStyle       1459 non-null object\n",
      "OverallQual      1459 non-null int64\n",
      "OverallCond      1459 non-null int64\n",
      "YearBuilt        1459 non-null int64\n",
      "YearRemodAdd     1459 non-null int64\n",
      "RoofStyle        1459 non-null object\n",
      "RoofMatl         1459 non-null object\n",
      "Exterior1st      1459 non-null object\n",
      "Exterior2nd      1459 non-null object\n",
      "ExterQual        1459 non-null object\n",
      "ExterCond        1459 non-null object\n",
      "Foundation       1459 non-null object\n",
      "BsmtFinSF1       1459 non-null int64\n",
      "BsmtUnfSF        1459 non-null int64\n",
      "TotalBsmtSF      1459 non-null int64\n",
      "Heating          1459 non-null object\n",
      "HeatingQC        1459 non-null object\n",
      "CentralAir       1459 non-null object\n",
      "Electrical       1459 non-null object\n",
      "1stFlrSF         1459 non-null int64\n",
      "2ndFlrSF         1459 non-null int64\n",
      "GrLivArea        1459 non-null int64\n",
      "BsmtFullBath     1459 non-null int64\n",
      "FullBath         1459 non-null int64\n",
      "HalfBath         1459 non-null int64\n",
      "BedroomAbvGr     1459 non-null int64\n",
      "KitchenAbvGr     1459 non-null int64\n",
      "KitchenQual      1459 non-null object\n",
      "TotRmsAbvGrd     1459 non-null int64\n",
      "Functional       1459 non-null object\n",
      "Fireplaces       1459 non-null int64\n",
      "GarageCars       1459 non-null int64\n",
      "GarageArea       1459 non-null int64\n",
      "PavedDrive       1459 non-null object\n",
      "WoodDeckSF       1459 non-null int64\n",
      "OpenPorchSF      1459 non-null int64\n",
      "EnclosedPorch    1459 non-null int64\n",
      "ScreenPorch      1459 non-null int64\n",
      "PoolArea         1459 non-null int64\n",
      "SaleType         1459 non-null object\n",
      "SaleCondition    1459 non-null object\n",
      "SalePrice        1459 non-null int64\n",
      "dtypes: int64(28), object(28)\n",
      "memory usage: 649.7+ KB\n"
     ]
    }
   ],
   "source": [
    "df.info()"
   ]
  },
  {
   "cell_type": "code",
   "execution_count": 23,
   "metadata": {
    "scrolled": true
   },
   "outputs": [
    {
     "data": {
      "text/plain": [
       "Index(['Id', 'MSSubClass', 'MSZoning', 'LotArea', 'Street', 'LotShape',\n",
       "       'LandContour', 'Utilities', 'LotConfig', 'LandSlope', 'Neighborhood',\n",
       "       'Condition1', 'Condition2', 'BldgType', 'HouseStyle', 'OverallQual',\n",
       "       'OverallCond', 'YearBuilt', 'YearRemodAdd', 'RoofStyle', 'RoofMatl',\n",
       "       'Exterior1st', 'Exterior2nd', 'ExterQual', 'ExterCond', 'Foundation',\n",
       "       'BsmtFinSF1', 'BsmtUnfSF', 'TotalBsmtSF', 'Heating', 'HeatingQC',\n",
       "       'CentralAir', 'Electrical', '1stFlrSF', '2ndFlrSF', 'GrLivArea',\n",
       "       'BsmtFullBath', 'FullBath', 'HalfBath', 'BedroomAbvGr', 'KitchenAbvGr',\n",
       "       'KitchenQual', 'TotRmsAbvGrd', 'Functional', 'Fireplaces', 'GarageCars',\n",
       "       'GarageArea', 'PavedDrive', 'WoodDeckSF', 'OpenPorchSF',\n",
       "       'EnclosedPorch', 'ScreenPorch', 'PoolArea', 'SaleType', 'SaleCondition',\n",
       "       'SalePrice'],\n",
       "      dtype='object')"
      ]
     },
     "execution_count": 23,
     "metadata": {},
     "output_type": "execute_result"
    }
   ],
   "source": [
    "df.columns"
   ]
  },
  {
   "cell_type": "markdown",
   "metadata": {},
   "source": [
    "pd.get_dummies er en funksjon i pandas for å gjøre om kategoriske atributter/verdier til dummy eller indikerende variabler.\n",
    "pd.get_dummies lager en ny DataFrame som består av nullere og enere. Under ser jeg hvilke output jeg får ut når jeg bruker Pandas Get Dummies. "
   ]
  },
  {
   "cell_type": "code",
   "execution_count": 24,
   "metadata": {
    "scrolled": true
   },
   "outputs": [
    {
     "data": {
      "text/plain": [
       "(1459, 215)"
      ]
     },
     "execution_count": 24,
     "metadata": {},
     "output_type": "execute_result"
    }
   ],
   "source": [
    "pd.get_dummies(df).shape"
   ]
  },
  {
   "cell_type": "markdown",
   "metadata": {},
   "source": [
    "Fikser numeriske attributter som egentlig er kategorier"
   ]
  },
  {
   "cell_type": "code",
   "execution_count": 25,
   "metadata": {},
   "outputs": [],
   "source": [
    "df['OverallCond'] = df['OverallCond'].astype(str)\n",
    "df['MSSubClass'] = df['MSSubClass'].apply(str)"
   ]
  },
  {
   "cell_type": "markdown",
   "metadata": {},
   "source": [
    "StrattifiedShuffleSplit gjør at man kan dele datasette til train- og valideringset "
   ]
  },
  {
   "cell_type": "code",
   "execution_count": 26,
   "metadata": {},
   "outputs": [
    {
     "name": "stderr",
     "output_type": "stream",
     "text": [
      "C:\\Users\\ingri\\Anaconda3\\envs\\dat158\\lib\\site-packages\\ipykernel_launcher.py:6: FutureWarning: \n",
      "Passing list-likes to .loc or [] with any missing label will raise\n",
      "KeyError in the future, you can use .reindex() as an alternative.\n",
      "\n",
      "See the documentation here:\n",
      "https://pandas.pydata.org/pandas-docs/stable/indexing.html#deprecate-loc-reindex-listlike\n",
      "  \n"
     ]
    }
   ],
   "source": [
    "from sklearn.model_selection import StratifiedShuffleSplit\n",
    "\n",
    "split = StratifiedShuffleSplit(n_splits=1, test_size=0.3, random_state=42)\n",
    "for train_index, test_index in split.split(df, df['OverallQual']):\n",
    "    strat_train_set = df.loc[train_index]\n",
    "    strat_test_set = df.loc[test_index]"
   ]
  },
  {
   "cell_type": "markdown",
   "metadata": {},
   "source": [
    "Verifiserer at splittingen var noen lunde korrekt."
   ]
  },
  {
   "cell_type": "code",
   "execution_count": 27,
   "metadata": {},
   "outputs": [
    {
     "data": {
      "text/plain": [
       "5     0.272282\n",
       "6     0.258570\n",
       "7     0.218413\n",
       "8     0.114594\n",
       "4     0.075416\n",
       "9     0.029383\n",
       "3     0.015671\n",
       "10    0.012733\n",
       "2     0.001959\n",
       "1     0.000979\n",
       "Name: OverallQual, dtype: float64"
      ]
     },
     "execution_count": 27,
     "metadata": {},
     "output_type": "execute_result"
    }
   ],
   "source": [
    "strat_train_set[\"OverallQual\"].value_counts() /len(strat_train_set)"
   ]
  },
  {
   "cell_type": "code",
   "execution_count": 28,
   "metadata": {},
   "outputs": [
    {
     "data": {
      "text/plain": [
       "5     0.271419\n",
       "6     0.256340\n",
       "7     0.218643\n",
       "8     0.115147\n",
       "4     0.079507\n",
       "9     0.029472\n",
       "3     0.013708\n",
       "10    0.012337\n",
       "2     0.002056\n",
       "1     0.001371\n",
       "Name: OverallQual, dtype: float64"
      ]
     },
     "execution_count": 28,
     "metadata": {},
     "output_type": "execute_result"
    }
   ],
   "source": [
    "df[\"OverallQual\"].value_counts() /len(df)"
   ]
  },
  {
   "cell_type": "code",
   "execution_count": 29,
   "metadata": {
    "scrolled": true
   },
   "outputs": [
    {
     "data": {
      "text/html": [
       "<div>\n",
       "<style scoped>\n",
       "    .dataframe tbody tr th:only-of-type {\n",
       "        vertical-align: middle;\n",
       "    }\n",
       "\n",
       "    .dataframe tbody tr th {\n",
       "        vertical-align: top;\n",
       "    }\n",
       "\n",
       "    .dataframe thead th {\n",
       "        text-align: right;\n",
       "    }\n",
       "</style>\n",
       "<table border=\"1\" class=\"dataframe\">\n",
       "  <thead>\n",
       "    <tr style=\"text-align: right;\">\n",
       "      <th></th>\n",
       "      <th>Id</th>\n",
       "      <th>MSSubClass</th>\n",
       "      <th>MSZoning</th>\n",
       "      <th>LotArea</th>\n",
       "      <th>Street</th>\n",
       "      <th>LotShape</th>\n",
       "      <th>LandContour</th>\n",
       "      <th>Utilities</th>\n",
       "      <th>LotConfig</th>\n",
       "      <th>LandSlope</th>\n",
       "      <th>...</th>\n",
       "      <th>GarageArea</th>\n",
       "      <th>PavedDrive</th>\n",
       "      <th>WoodDeckSF</th>\n",
       "      <th>OpenPorchSF</th>\n",
       "      <th>EnclosedPorch</th>\n",
       "      <th>ScreenPorch</th>\n",
       "      <th>PoolArea</th>\n",
       "      <th>SaleType</th>\n",
       "      <th>SaleCondition</th>\n",
       "      <th>SalePrice</th>\n",
       "    </tr>\n",
       "  </thead>\n",
       "  <tbody>\n",
       "    <tr>\n",
       "      <th>199</th>\n",
       "      <td>200</td>\n",
       "      <td>20</td>\n",
       "      <td>RL</td>\n",
       "      <td>9591</td>\n",
       "      <td>Pave</td>\n",
       "      <td>Reg</td>\n",
       "      <td>Lvl</td>\n",
       "      <td>AllPub</td>\n",
       "      <td>Inside</td>\n",
       "      <td>Gtl</td>\n",
       "      <td>...</td>\n",
       "      <td>856</td>\n",
       "      <td>Y</td>\n",
       "      <td>0</td>\n",
       "      <td>26</td>\n",
       "      <td>0</td>\n",
       "      <td>170</td>\n",
       "      <td>0</td>\n",
       "      <td>WD</td>\n",
       "      <td>Normal</td>\n",
       "      <td>274900</td>\n",
       "    </tr>\n",
       "    <tr>\n",
       "      <th>415</th>\n",
       "      <td>416</td>\n",
       "      <td>20</td>\n",
       "      <td>RL</td>\n",
       "      <td>8899</td>\n",
       "      <td>Pave</td>\n",
       "      <td>IR1</td>\n",
       "      <td>Lvl</td>\n",
       "      <td>AllPub</td>\n",
       "      <td>Inside</td>\n",
       "      <td>Gtl</td>\n",
       "      <td>...</td>\n",
       "      <td>396</td>\n",
       "      <td>Y</td>\n",
       "      <td>100</td>\n",
       "      <td>30</td>\n",
       "      <td>0</td>\n",
       "      <td>0</td>\n",
       "      <td>0</td>\n",
       "      <td>New</td>\n",
       "      <td>Partial</td>\n",
       "      <td>181134</td>\n",
       "    </tr>\n",
       "    <tr>\n",
       "      <th>466</th>\n",
       "      <td>467</td>\n",
       "      <td>20</td>\n",
       "      <td>RL</td>\n",
       "      <td>10628</td>\n",
       "      <td>Pave</td>\n",
       "      <td>Reg</td>\n",
       "      <td>Lvl</td>\n",
       "      <td>AllPub</td>\n",
       "      <td>Inside</td>\n",
       "      <td>Gtl</td>\n",
       "      <td>...</td>\n",
       "      <td>526</td>\n",
       "      <td>Y</td>\n",
       "      <td>0</td>\n",
       "      <td>0</td>\n",
       "      <td>0</td>\n",
       "      <td>176</td>\n",
       "      <td>0</td>\n",
       "      <td>WD</td>\n",
       "      <td>Normal</td>\n",
       "      <td>167000</td>\n",
       "    </tr>\n",
       "    <tr>\n",
       "      <th>1322</th>\n",
       "      <td>1323</td>\n",
       "      <td>60</td>\n",
       "      <td>RL</td>\n",
       "      <td>10186</td>\n",
       "      <td>Pave</td>\n",
       "      <td>IR1</td>\n",
       "      <td>Lvl</td>\n",
       "      <td>AllPub</td>\n",
       "      <td>Inside</td>\n",
       "      <td>Gtl</td>\n",
       "      <td>...</td>\n",
       "      <td>564</td>\n",
       "      <td>Y</td>\n",
       "      <td>240</td>\n",
       "      <td>39</td>\n",
       "      <td>0</td>\n",
       "      <td>0</td>\n",
       "      <td>0</td>\n",
       "      <td>WD</td>\n",
       "      <td>Normal</td>\n",
       "      <td>190000</td>\n",
       "    </tr>\n",
       "    <tr>\n",
       "      <th>156</th>\n",
       "      <td>157</td>\n",
       "      <td>20</td>\n",
       "      <td>RL</td>\n",
       "      <td>7200</td>\n",
       "      <td>Pave</td>\n",
       "      <td>Reg</td>\n",
       "      <td>Lvl</td>\n",
       "      <td>AllPub</td>\n",
       "      <td>Inside</td>\n",
       "      <td>Gtl</td>\n",
       "      <td>...</td>\n",
       "      <td>625</td>\n",
       "      <td>Y</td>\n",
       "      <td>0</td>\n",
       "      <td>0</td>\n",
       "      <td>0</td>\n",
       "      <td>0</td>\n",
       "      <td>0</td>\n",
       "      <td>WD</td>\n",
       "      <td>Normal</td>\n",
       "      <td>109500</td>\n",
       "    </tr>\n",
       "  </tbody>\n",
       "</table>\n",
       "<p>5 rows × 56 columns</p>\n",
       "</div>"
      ],
      "text/plain": [
       "        Id MSSubClass MSZoning  LotArea Street LotShape LandContour Utilities  \\\n",
       "199    200         20       RL     9591   Pave      Reg         Lvl    AllPub   \n",
       "415    416         20       RL     8899   Pave      IR1         Lvl    AllPub   \n",
       "466    467         20       RL    10628   Pave      Reg         Lvl    AllPub   \n",
       "1322  1323         60       RL    10186   Pave      IR1         Lvl    AllPub   \n",
       "156    157         20       RL     7200   Pave      Reg         Lvl    AllPub   \n",
       "\n",
       "     LotConfig LandSlope    ...    GarageArea PavedDrive WoodDeckSF  \\\n",
       "199     Inside       Gtl    ...           856          Y          0   \n",
       "415     Inside       Gtl    ...           396          Y        100   \n",
       "466     Inside       Gtl    ...           526          Y          0   \n",
       "1322    Inside       Gtl    ...           564          Y        240   \n",
       "156     Inside       Gtl    ...           625          Y          0   \n",
       "\n",
       "     OpenPorchSF EnclosedPorch  ScreenPorch PoolArea  SaleType  SaleCondition  \\\n",
       "199           26             0          170        0        WD         Normal   \n",
       "415           30             0            0        0       New        Partial   \n",
       "466            0             0          176        0        WD         Normal   \n",
       "1322          39             0            0        0        WD         Normal   \n",
       "156            0             0            0        0        WD         Normal   \n",
       "\n",
       "     SalePrice  \n",
       "199     274900  \n",
       "415     181134  \n",
       "466     167000  \n",
       "1322    190000  \n",
       "156     109500  \n",
       "\n",
       "[5 rows x 56 columns]"
      ]
     },
     "execution_count": 29,
     "metadata": {},
     "output_type": "execute_result"
    }
   ],
   "source": [
    "strat_train_set.head()"
   ]
  },
  {
   "cell_type": "markdown",
   "metadata": {},
   "source": [
    "Under er en funksjon for å returnere alle kolonnene med verdier som har objekt som datatype"
   ]
  },
  {
   "cell_type": "code",
   "execution_count": 30,
   "metadata": {},
   "outputs": [],
   "source": [
    "def objcolify(dataset):\n",
    "    objcols = pd.Series()\n",
    "    for i in dataset.columns:\n",
    "        if dataset[i].dtype == 'O':\n",
    "            objcols = objcols.append(pd.Series([i]), ignore_index=True)\n",
    "    return objcols"
   ]
  },
  {
   "cell_type": "markdown",
   "metadata": {},
   "source": [
    "Her setter man labels (Saleprice) ttil variabel y"
   ]
  },
  {
   "cell_type": "code",
   "execution_count": 31,
   "metadata": {},
   "outputs": [],
   "source": [
    "y = strat_train_set['SalePrice'].copy()"
   ]
  },
  {
   "cell_type": "markdown",
   "metadata": {},
   "source": [
    "Her setter man trainingset uten labels til variabel dft"
   ]
  },
  {
   "cell_type": "code",
   "execution_count": 32,
   "metadata": {},
   "outputs": [],
   "source": [
    "dft = strat_train_set.drop(columns=\"SalePrice\").copy()"
   ]
  },
  {
   "cell_type": "code",
   "execution_count": 33,
   "metadata": {},
   "outputs": [],
   "source": [
    "dft = pd.get_dummies(dft)"
   ]
  },
  {
   "cell_type": "markdown",
   "metadata": {},
   "source": []
  },
  {
   "cell_type": "markdown",
   "metadata": {},
   "source": [
    "Bruker Pipeline for å ta hånd om numeriske kolonner."
   ]
  },
  {
   "cell_type": "code",
   "execution_count": 34,
   "metadata": {},
   "outputs": [],
   "source": [
    "from sklearn.pipeline import Pipeline\n",
    "from sklearn.preprocessing import StandardScaler\n",
    "from sklearn.impute import SimpleImputer\n",
    "\n",
    "num_pipeline = Pipeline([\n",
    "        ('imputer', SimpleImputer(strategy=\"median\")),\n",
    "        ('std_scaler', StandardScaler()),\n",
    "    ])"
   ]
  },
  {
   "cell_type": "markdown",
   "metadata": {},
   "source": [
    "Under lager jeg en full_pipeline til å ta hånd om både numeriske og kategoriske kolonner. Etter jeg fant Get_dummies funksjonen i pandas fjernet jeg den kategoriske delen med One_hot_encoder, og brukte bare full_pipeline til å kalle på num_pipeline. "
   ]
  },
  {
   "cell_type": "code",
   "execution_count": 35,
   "metadata": {},
   "outputs": [],
   "source": [
    "from sklearn.compose import ColumnTransformer\n",
    "num_attribs = list(dft)\n",
    "\n",
    "full_pipeline = ColumnTransformer([\n",
    "    (\"num\", num_pipeline, num_attribs),\n",
    "])\n",
    "trainset_prepared = full_pipeline.fit_transform(dft)"
   ]
  },
  {
   "cell_type": "code",
   "execution_count": 36,
   "metadata": {},
   "outputs": [
    {
     "data": {
      "text/plain": [
       "array([[-1.24575245, -0.09172788,  1.37383073, ..., -0.12210871,\n",
       "         0.47196874, -0.30711464],\n",
       "       [-0.73330226, -0.17809306,  0.64930533, ..., -0.12210871,\n",
       "        -2.11878439,  3.25611313],\n",
       "       [-0.61230707,  0.03769507,  0.64930533, ..., -0.12210871,\n",
       "         0.47196874, -0.30711464],\n",
       "       ...,\n",
       "       [-1.138992  , -0.18046436,  0.64930533, ..., -0.12210871,\n",
       "         0.47196874, -0.30711464],\n",
       "       [ 0.21093468, -0.07188386, -0.07522007, ..., -0.12210871,\n",
       "         0.47196874, -0.30711464],\n",
       "       [-0.43911788,  0.13691518,  1.37383073, ..., -0.12210871,\n",
       "         0.47196874, -0.30711464]])"
      ]
     },
     "execution_count": 36,
     "metadata": {},
     "output_type": "execute_result"
    }
   ],
   "source": [
    "trainset_prepared"
   ]
  },
  {
   "cell_type": "markdown",
   "metadata": {},
   "source": [
    "Konverterer det forberedte datasettet til en dataframe"
   ]
  },
  {
   "cell_type": "code",
   "execution_count": 37,
   "metadata": {},
   "outputs": [],
   "source": [
    "train = pd.DataFrame(trainset_prepared)\n",
    "#test = pd.DataFrame(testset_prepared)"
   ]
  },
  {
   "cell_type": "code",
   "execution_count": 38,
   "metadata": {},
   "outputs": [
    {
     "data": {
      "text/html": [
       "<div>\n",
       "<style scoped>\n",
       "    .dataframe tbody tr th:only-of-type {\n",
       "        vertical-align: middle;\n",
       "    }\n",
       "\n",
       "    .dataframe tbody tr th {\n",
       "        vertical-align: top;\n",
       "    }\n",
       "\n",
       "    .dataframe thead th {\n",
       "        text-align: right;\n",
       "    }\n",
       "</style>\n",
       "<table border=\"1\" class=\"dataframe\">\n",
       "  <thead>\n",
       "    <tr style=\"text-align: right;\">\n",
       "      <th></th>\n",
       "      <th>0</th>\n",
       "      <th>1</th>\n",
       "      <th>2</th>\n",
       "      <th>3</th>\n",
       "      <th>4</th>\n",
       "      <th>5</th>\n",
       "      <th>6</th>\n",
       "      <th>7</th>\n",
       "      <th>8</th>\n",
       "      <th>9</th>\n",
       "      <th>...</th>\n",
       "      <th>218</th>\n",
       "      <th>219</th>\n",
       "      <th>220</th>\n",
       "      <th>221</th>\n",
       "      <th>222</th>\n",
       "      <th>223</th>\n",
       "      <th>224</th>\n",
       "      <th>225</th>\n",
       "      <th>226</th>\n",
       "      <th>227</th>\n",
       "    </tr>\n",
       "  </thead>\n",
       "  <tbody>\n",
       "    <tr>\n",
       "      <th>0</th>\n",
       "      <td>-1.245752</td>\n",
       "      <td>-0.091728</td>\n",
       "      <td>1.373831</td>\n",
       "      <td>1.111633</td>\n",
       "      <td>0.997958</td>\n",
       "      <td>1.433482</td>\n",
       "      <td>0.140669</td>\n",
       "      <td>1.503818</td>\n",
       "      <td>1.439940</td>\n",
       "      <td>-0.804881</td>\n",
       "      <td>...</td>\n",
       "      <td>-0.054286</td>\n",
       "      <td>-0.301350</td>\n",
       "      <td>-0.044302</td>\n",
       "      <td>0.393672</td>\n",
       "      <td>-0.27338</td>\n",
       "      <td>-0.044302</td>\n",
       "      <td>-0.099454</td>\n",
       "      <td>-0.122109</td>\n",
       "      <td>0.471969</td>\n",
       "      <td>-0.307115</td>\n",
       "    </tr>\n",
       "    <tr>\n",
       "      <th>1</th>\n",
       "      <td>-0.733302</td>\n",
       "      <td>-0.178093</td>\n",
       "      <td>0.649305</td>\n",
       "      <td>1.211047</td>\n",
       "      <td>1.094942</td>\n",
       "      <td>-0.915046</td>\n",
       "      <td>1.689944</td>\n",
       "      <td>0.662197</td>\n",
       "      <td>0.472886</td>\n",
       "      <td>-0.804881</td>\n",
       "      <td>...</td>\n",
       "      <td>-0.054286</td>\n",
       "      <td>3.318398</td>\n",
       "      <td>-0.044302</td>\n",
       "      <td>-2.540188</td>\n",
       "      <td>-0.27338</td>\n",
       "      <td>-0.044302</td>\n",
       "      <td>-0.099454</td>\n",
       "      <td>-0.122109</td>\n",
       "      <td>-2.118784</td>\n",
       "      <td>3.256113</td>\n",
       "    </tr>\n",
       "    <tr>\n",
       "      <th>2</th>\n",
       "      <td>-0.612307</td>\n",
       "      <td>0.037695</td>\n",
       "      <td>0.649305</td>\n",
       "      <td>-0.015060</td>\n",
       "      <td>-0.699264</td>\n",
       "      <td>0.749231</td>\n",
       "      <td>-0.141833</td>\n",
       "      <td>0.520047</td>\n",
       "      <td>0.309550</td>\n",
       "      <td>-0.804881</td>\n",
       "      <td>...</td>\n",
       "      <td>-0.054286</td>\n",
       "      <td>-0.301350</td>\n",
       "      <td>-0.044302</td>\n",
       "      <td>0.393672</td>\n",
       "      <td>-0.27338</td>\n",
       "      <td>-0.044302</td>\n",
       "      <td>-0.099454</td>\n",
       "      <td>-0.122109</td>\n",
       "      <td>0.471969</td>\n",
       "      <td>-0.307115</td>\n",
       "    </tr>\n",
       "    <tr>\n",
       "      <th>3</th>\n",
       "      <td>1.418514</td>\n",
       "      <td>-0.017469</td>\n",
       "      <td>0.649305</td>\n",
       "      <td>0.713977</td>\n",
       "      <td>0.367561</td>\n",
       "      <td>0.519675</td>\n",
       "      <td>-1.090231</td>\n",
       "      <td>-0.669053</td>\n",
       "      <td>-0.250460</td>\n",
       "      <td>1.183982</td>\n",
       "      <td>...</td>\n",
       "      <td>-0.054286</td>\n",
       "      <td>-0.301350</td>\n",
       "      <td>-0.044302</td>\n",
       "      <td>0.393672</td>\n",
       "      <td>-0.27338</td>\n",
       "      <td>-0.044302</td>\n",
       "      <td>-0.099454</td>\n",
       "      <td>-0.122109</td>\n",
       "      <td>0.471969</td>\n",
       "      <td>-0.307115</td>\n",
       "    </tr>\n",
       "    <tr>\n",
       "      <th>4</th>\n",
       "      <td>-1.347768</td>\n",
       "      <td>-0.390137</td>\n",
       "      <td>-0.799745</td>\n",
       "      <td>-0.677820</td>\n",
       "      <td>-1.669105</td>\n",
       "      <td>-0.968020</td>\n",
       "      <td>-1.260629</td>\n",
       "      <td>-2.361320</td>\n",
       "      <td>-0.304905</td>\n",
       "      <td>-0.804881</td>\n",
       "      <td>...</td>\n",
       "      <td>-0.054286</td>\n",
       "      <td>-0.301350</td>\n",
       "      <td>-0.044302</td>\n",
       "      <td>0.393672</td>\n",
       "      <td>-0.27338</td>\n",
       "      <td>-0.044302</td>\n",
       "      <td>-0.099454</td>\n",
       "      <td>-0.122109</td>\n",
       "      <td>0.471969</td>\n",
       "      <td>-0.307115</td>\n",
       "    </tr>\n",
       "  </tbody>\n",
       "</table>\n",
       "<p>5 rows × 228 columns</p>\n",
       "</div>"
      ],
      "text/plain": [
       "        0         1         2         3         4         5         6    \\\n",
       "0 -1.245752 -0.091728  1.373831  1.111633  0.997958  1.433482  0.140669   \n",
       "1 -0.733302 -0.178093  0.649305  1.211047  1.094942 -0.915046  1.689944   \n",
       "2 -0.612307  0.037695  0.649305 -0.015060 -0.699264  0.749231 -0.141833   \n",
       "3  1.418514 -0.017469  0.649305  0.713977  0.367561  0.519675 -1.090231   \n",
       "4 -1.347768 -0.390137 -0.799745 -0.677820 -1.669105 -0.968020 -1.260629   \n",
       "\n",
       "        7         8         9      ...          218       219       220  \\\n",
       "0  1.503818  1.439940 -0.804881    ...    -0.054286 -0.301350 -0.044302   \n",
       "1  0.662197  0.472886 -0.804881    ...    -0.054286  3.318398 -0.044302   \n",
       "2  0.520047  0.309550 -0.804881    ...    -0.054286 -0.301350 -0.044302   \n",
       "3 -0.669053 -0.250460  1.183982    ...    -0.054286 -0.301350 -0.044302   \n",
       "4 -2.361320 -0.304905 -0.804881    ...    -0.054286 -0.301350 -0.044302   \n",
       "\n",
       "        221      222       223       224       225       226       227  \n",
       "0  0.393672 -0.27338 -0.044302 -0.099454 -0.122109  0.471969 -0.307115  \n",
       "1 -2.540188 -0.27338 -0.044302 -0.099454 -0.122109 -2.118784  3.256113  \n",
       "2  0.393672 -0.27338 -0.044302 -0.099454 -0.122109  0.471969 -0.307115  \n",
       "3  0.393672 -0.27338 -0.044302 -0.099454 -0.122109  0.471969 -0.307115  \n",
       "4  0.393672 -0.27338 -0.044302 -0.099454 -0.122109  0.471969 -0.307115  \n",
       "\n",
       "[5 rows x 228 columns]"
      ]
     },
     "execution_count": 38,
     "metadata": {},
     "output_type": "execute_result"
    }
   ],
   "source": [
    "train.head()"
   ]
  },
  {
   "cell_type": "markdown",
   "metadata": {},
   "source": [
    "Lager en duplikat av de orginale labelsene. "
   ]
  },
  {
   "cell_type": "code",
   "execution_count": 39,
   "metadata": {},
   "outputs": [
    {
     "name": "stdout",
     "output_type": "stream",
     "text": [
      "<class 'pandas.core.frame.DataFrame'>\n",
      "RangeIndex: 1021 entries, 0 to 1020\n",
      "Columns: 228 entries, 0 to 227\n",
      "dtypes: float64(228)\n",
      "memory usage: 1.8 MB\n"
     ]
    }
   ],
   "source": [
    "train.info()\n",
    "y_original = y.copy\n",
    "y=y.reset_index().drop(columns='index')['SalePrice']"
   ]
  },
  {
   "cell_type": "markdown",
   "metadata": {},
   "source": [
    "Funksjon for å skrive ut predictions og labels"
   ]
  },
  {
   "cell_type": "code",
   "execution_count": 40,
   "metadata": {},
   "outputs": [],
   "source": [
    "def print_preds_labels(preds, labels):\n",
    "   \n",
    "    print('Preds:                labels:')\n",
    "    for i in range (len(preds)):\n",
    "        print(preds[i], labels[i], sep='  #  ')"
   ]
  },
  {
   "cell_type": "markdown",
   "metadata": {},
   "source": [
    "## Select model and train it"
   ]
  },
  {
   "cell_type": "markdown",
   "metadata": {},
   "source": [
    "Trener en linear-regresjonsmodell, der jeg bruker train og y"
   ]
  },
  {
   "cell_type": "code",
   "execution_count": 41,
   "metadata": {},
   "outputs": [
    {
     "data": {
      "text/plain": [
       "LinearRegression(copy_X=True, fit_intercept=True, n_jobs=None,\n",
       "         normalize=False)"
      ]
     },
     "execution_count": 41,
     "metadata": {},
     "output_type": "execute_result"
    }
   ],
   "source": [
    "from sklearn.linear_model import LinearRegression\n",
    "\n",
    "lin_reg = LinearRegression()\n",
    "lin_reg.fit(train, y)"
   ]
  },
  {
   "cell_type": "markdown",
   "metadata": {},
   "source": [
    "Tester modellen på et lite testsett"
   ]
  },
  {
   "cell_type": "code",
   "execution_count": 42,
   "metadata": {},
   "outputs": [
    {
     "name": "stdout",
     "output_type": "stream",
     "text": [
      "Preds:                labels:\n",
      "320676.6259756032  #  274900\n",
      "193512.62597560318  #  181134\n",
      "179716.62597560318  #  167000\n",
      "243484.62597560318  #  190000\n",
      "100404.62597560318  #  109500\n",
      "118160.62597560318  #  89471\n",
      "185500.62597560318  #  179600\n",
      "159532.62597560318  #  160000\n",
      "220840.62597560318  #  187750\n",
      "107908.62597560318  #  120500\n"
     ]
    }
   ],
   "source": [
    "some_data = dft.iloc[:10]\n",
    "some_labels = y.iloc[:10]\n",
    "some_data_prepared = full_pipeline.transform(some_data)\n",
    "\n",
    "preds = pd.Series(lin_reg.predict(some_data_prepared))\n",
    "print_preds_labels(preds = preds, labels = some_labels)\n"
   ]
  },
  {
   "cell_type": "markdown",
   "metadata": {},
   "source": []
  },
  {
   "cell_type": "markdown",
   "metadata": {},
   "source": [
    "Så sjekker man RMSE og MAE"
   ]
  },
  {
   "cell_type": "code",
   "execution_count": 43,
   "metadata": {},
   "outputs": [
    {
     "data": {
      "text/plain": [
       "20370.67184620163"
      ]
     },
     "execution_count": 43,
     "metadata": {},
     "output_type": "execute_result"
    }
   ],
   "source": [
    "from sklearn.metrics import mean_squared_error\n",
    "\n",
    "housing_predictions = lin_reg.predict(train)\n",
    "lin_mse = mean_squared_error(y, housing_predictions)\n",
    "lin_rmse = np.sqrt(lin_mse)\n",
    "lin_rmse"
   ]
  },
  {
   "cell_type": "code",
   "execution_count": 44,
   "metadata": {},
   "outputs": [
    {
     "data": {
      "text/plain": [
       "13673.33093607408"
      ]
     },
     "execution_count": 44,
     "metadata": {},
     "output_type": "execute_result"
    }
   ],
   "source": [
    "from sklearn.metrics import mean_absolute_error\n",
    "\n",
    "lin_mae = mean_absolute_error(y, housing_predictions)\n",
    "lin_mae"
   ]
  },
  {
   "cell_type": "code",
   "execution_count": 45,
   "metadata": {},
   "outputs": [
    {
     "data": {
      "text/plain": [
       "DecisionTreeRegressor(criterion='mse', max_depth=None, max_features=None,\n",
       "           max_leaf_nodes=None, min_impurity_decrease=0.0,\n",
       "           min_impurity_split=None, min_samples_leaf=1,\n",
       "           min_samples_split=2, min_weight_fraction_leaf=0.0,\n",
       "           presort=False, random_state=42, splitter='best')"
      ]
     },
     "execution_count": 45,
     "metadata": {},
     "output_type": "execute_result"
    }
   ],
   "source": [
    "from sklearn.tree import DecisionTreeRegressor\n",
    "\n",
    "tree_reg = DecisionTreeRegressor(random_state=42)\n",
    "tree_reg.fit(train, y)"
   ]
  },
  {
   "cell_type": "code",
   "execution_count": 46,
   "metadata": {},
   "outputs": [
    {
     "data": {
      "text/plain": [
       "0.0"
      ]
     },
     "execution_count": 46,
     "metadata": {},
     "output_type": "execute_result"
    }
   ],
   "source": [
    "housing_predictions = tree_reg.predict(train)\n",
    "tree_mse = mean_squared_error(y, housing_predictions)\n",
    "tree_rmse = np.sqrt(tree_mse)\n",
    "tree_rmse"
   ]
  },
  {
   "cell_type": "code",
   "execution_count": 47,
   "metadata": {},
   "outputs": [
    {
     "data": {
      "text/plain": [
       "RandomForestRegressor(bootstrap=True, criterion='mse', max_depth=None,\n",
       "           max_features='auto', max_leaf_nodes=None,\n",
       "           min_impurity_decrease=0.0, min_impurity_split=None,\n",
       "           min_samples_leaf=1, min_samples_split=2,\n",
       "           min_weight_fraction_leaf=0.0, n_estimators=100, n_jobs=None,\n",
       "           oob_score=False, random_state=None, verbose=0, warm_start=False)"
      ]
     },
     "execution_count": 47,
     "metadata": {},
     "output_type": "execute_result"
    }
   ],
   "source": [
    "from sklearn.ensemble import RandomForestRegressor\n",
    "\n",
    "rfg = RandomForestRegressor(n_estimators=100)\n",
    "rfg.fit(train, y)"
   ]
  },
  {
   "cell_type": "code",
   "execution_count": 48,
   "metadata": {},
   "outputs": [
    {
     "data": {
      "text/plain": [
       "10458.585731239991"
      ]
     },
     "execution_count": 48,
     "metadata": {},
     "output_type": "execute_result"
    }
   ],
   "source": [
    "housing_predictions = rfg.predict(train)\n",
    "rfg_mse = mean_squared_error(y, housing_predictions)\n",
    "rfg_rmse = np.sqrt(rfg_mse)\n",
    "rfg_rmse"
   ]
  },
  {
   "cell_type": "code",
   "execution_count": 49,
   "metadata": {},
   "outputs": [
    {
     "name": "stderr",
     "output_type": "stream",
     "text": [
      "C:\\Users\\ingri\\Anaconda3\\envs\\dat158\\lib\\site-packages\\sklearn\\model_selection\\_split.py:2053: FutureWarning: You should specify a value for 'cv' instead of relying on the default value. The default value will change from 3 to 5 in version 0.22.\n",
      "  warnings.warn(CV_WARNING, FutureWarning)\n"
     ]
    }
   ],
   "source": [
    "from sklearn.model_selection import cross_val_score\n",
    "\n",
    "scores = cross_val_score(tree_reg, train, y,\n",
    "                                scoring=\"neg_mean_squared_error\", cv=None)\n",
    "tree_rmse_scores = np.sqrt(-scores)"
   ]
  },
  {
   "cell_type": "code",
   "execution_count": 50,
   "metadata": {},
   "outputs": [
    {
     "name": "stdout",
     "output_type": "stream",
     "text": [
      "Scores: [40023.62181244 39496.83364964 41510.15754873]\n",
      "Mean: 40343.537670270125\n",
      "Standard deviation: 852.4974673414588\n"
     ]
    }
   ],
   "source": [
    "def display_scores(scores):\n",
    "    print(\"Scores:\", scores)\n",
    "    print(\"Mean:\", scores.mean())\n",
    "    print(\"Standard deviation:\", scores.std())\n",
    "\n",
    "display_scores(tree_rmse_scores)"
   ]
  },
  {
   "cell_type": "code",
   "execution_count": 51,
   "metadata": {},
   "outputs": [
    {
     "name": "stdout",
     "output_type": "stream",
     "text": [
      "Scores: [25715.83588025 25345.7432515  24871.93994826 25888.65954112\n",
      " 32970.9353787  27749.44351761 23995.79234363 20501.47107864\n",
      " 41596.84084728 28284.78578896]\n",
      "Mean: 27692.144757593505\n",
      "Standard deviation: 5545.692295217746\n"
     ]
    }
   ],
   "source": [
    "rfg_scores = cross_val_score(rfg, train, y,\n",
    "                             scoring=\"neg_mean_squared_error\", cv=10)\n",
    "rfg_rmse_scores = np.sqrt(-rfg_scores)\n",
    "display_scores(rfg_rmse_scores)"
   ]
  },
  {
   "cell_type": "code",
   "execution_count": 52,
   "metadata": {},
   "outputs": [
    {
     "name": "stdout",
     "output_type": "stream",
     "text": [
      "Lin_reg:  0.9279610533769005\n",
      "Tree_reg:  1.0\n",
      "Forest_reg:  0.9810109792148256\n"
     ]
    }
   ],
   "source": [
    "print('Lin_reg: ', lin_reg.score(train, y))\n",
    "print('Tree_reg: ', tree_reg.score(train,y))\n",
    "print('Forest_reg: ', rfg.score(train,y))"
   ]
  },
  {
   "cell_type": "markdown",
   "metadata": {},
   "source": [
    "Så langt er det Randomforest som er den beste modellen. "
   ]
  },
  {
   "cell_type": "markdown",
   "metadata": {},
   "source": [
    "Prøver med catboost"
   ]
  },
  {
   "cell_type": "code",
   "execution_count": 53,
   "metadata": {},
   "outputs": [],
   "source": [
    "new_data = OriginalData.copy()\n",
    "from sklearn.model_selection import StratifiedShuffleSplit\n",
    "\n",
    "split = StratifiedShuffleSplit(n_splits=1, test_size=0.3, random_state=42)\n",
    "for new_train_index, new_test_index in split.split(new_data, new_data['OverallQual']):\n",
    "    new_strat_train_set = new_data.loc[new_train_index]\n",
    "    new_strat_test_set = new_data.loc[new_test_index]"
   ]
  },
  {
   "cell_type": "code",
   "execution_count": 54,
   "metadata": {},
   "outputs": [],
   "source": [
    "new_objcols = objcolify(new_data)\n",
    "\n",
    "for header in new_objcols:\n",
    "    new_strat_train_set[header] = new_strat_train_set[header].astype('category').cat.codes\n",
    "    new_strat_test_set[header] = new_strat_test_set[header].astype('category').cat.codes"
   ]
  },
  {
   "cell_type": "code",
   "execution_count": 55,
   "metadata": {},
   "outputs": [],
   "source": [
    "label = 'SalePrice'\n",
    "new_train_y = new_strat_train_set[label]\n",
    "new_train_X = new_strat_train_set.drop(label, axis=1) # remove labels\n",
    "new_test_y  = new_strat_test_set[label]\n",
    "new_test_X  = new_strat_test_set.drop(label, axis=1) # remove labels"
   ]
  },
  {
   "cell_type": "code",
   "execution_count": 56,
   "metadata": {},
   "outputs": [
    {
     "name": "stdout",
     "output_type": "stream",
     "text": [
      "0:\tlearn: 177751.2022729\ttest: 185695.6521029\tbest: 185695.6521029 (0)\ttotal: 96.9ms\tremaining: 48.3s\n",
      "1:\tlearn: 161836.3064634\ttest: 170076.9792958\tbest: 170076.9792958 (1)\ttotal: 135ms\tremaining: 33.6s\n",
      "2:\tlearn: 147850.6508392\ttest: 156342.6549936\tbest: 156342.6549936 (2)\ttotal: 175ms\tremaining: 29s\n",
      "3:\tlearn: 135235.3677652\ttest: 143576.6550638\tbest: 143576.6550638 (3)\ttotal: 212ms\tremaining: 26.2s\n",
      "4:\tlearn: 124084.8614764\ttest: 132623.1604015\tbest: 132623.1604015 (4)\ttotal: 253ms\tremaining: 25.1s\n",
      "5:\tlearn: 114009.2588832\ttest: 122835.3882675\tbest: 122835.3882675 (5)\ttotal: 289ms\tremaining: 23.8s\n",
      "6:\tlearn: 104871.4200678\ttest: 114225.1572218\tbest: 114225.1572218 (6)\ttotal: 336ms\tremaining: 23.7s\n",
      "7:\tlearn: 97017.1152031\ttest: 106586.9300065\tbest: 106586.9300065 (7)\ttotal: 379ms\tremaining: 23.3s\n",
      "8:\tlearn: 89988.2187050\ttest: 99615.1244932\tbest: 99615.1244932 (8)\ttotal: 417ms\tremaining: 22.7s\n",
      "9:\tlearn: 83805.8619207\ttest: 93490.1573636\tbest: 93490.1573636 (9)\ttotal: 455ms\tremaining: 22.3s\n",
      "10:\tlearn: 78326.5923369\ttest: 88415.9083039\tbest: 88415.9083039 (10)\ttotal: 493ms\tremaining: 21.9s\n",
      "11:\tlearn: 73244.5243818\ttest: 83520.9703596\tbest: 83520.9703596 (11)\ttotal: 533ms\tremaining: 21.7s\n",
      "12:\tlearn: 68659.6303324\ttest: 79056.1349040\tbest: 79056.1349040 (12)\ttotal: 586ms\tremaining: 21.9s\n",
      "13:\tlearn: 64336.4952564\ttest: 74979.2712942\tbest: 74979.2712942 (13)\ttotal: 627ms\tremaining: 21.8s\n",
      "14:\tlearn: 60618.9344498\ttest: 71433.0067214\tbest: 71433.0067214 (14)\ttotal: 676ms\tremaining: 21.9s\n",
      "15:\tlearn: 57131.1232652\ttest: 68203.4080493\tbest: 68203.4080493 (15)\ttotal: 717ms\tremaining: 21.7s\n",
      "16:\tlearn: 53701.4109533\ttest: 64998.8469916\tbest: 64998.8469916 (16)\ttotal: 766ms\tremaining: 21.8s\n",
      "17:\tlearn: 51149.3099576\ttest: 62512.5276910\tbest: 62512.5276910 (17)\ttotal: 810ms\tremaining: 21.7s\n",
      "18:\tlearn: 48846.6271605\ttest: 60255.5709494\tbest: 60255.5709494 (18)\ttotal: 854ms\tremaining: 21.6s\n",
      "19:\tlearn: 46545.4916951\ttest: 58300.5472880\tbest: 58300.5472880 (19)\ttotal: 895ms\tremaining: 21.5s\n",
      "20:\tlearn: 44378.9881767\ttest: 56091.3959414\tbest: 56091.3959414 (20)\ttotal: 947ms\tremaining: 21.6s\n",
      "21:\tlearn: 42563.9817744\ttest: 54359.7601540\tbest: 54359.7601540 (21)\ttotal: 990ms\tremaining: 21.5s\n",
      "22:\tlearn: 40973.2829256\ttest: 52786.9851116\tbest: 52786.9851116 (22)\ttotal: 1.03s\tremaining: 21.5s\n",
      "23:\tlearn: 39389.5038355\ttest: 51654.9551246\tbest: 51654.9551246 (23)\ttotal: 1.07s\tremaining: 21.3s\n",
      "24:\tlearn: 38117.4123483\ttest: 50509.2536178\tbest: 50509.2536178 (24)\ttotal: 1.12s\tremaining: 21.2s\n",
      "25:\tlearn: 36897.9109524\ttest: 49311.3714901\tbest: 49311.3714901 (25)\ttotal: 1.16s\tremaining: 21.1s\n",
      "26:\tlearn: 35905.5344032\ttest: 48257.1976689\tbest: 48257.1976689 (26)\ttotal: 1.21s\tremaining: 21.2s\n",
      "27:\tlearn: 35004.1067354\ttest: 47272.3770245\tbest: 47272.3770245 (27)\ttotal: 1.24s\tremaining: 21s\n",
      "28:\tlearn: 34140.9960012\ttest: 46355.1875857\tbest: 46355.1875857 (28)\ttotal: 1.29s\tremaining: 20.9s\n",
      "29:\tlearn: 33328.0309265\ttest: 45546.4187458\tbest: 45546.4187458 (29)\ttotal: 1.33s\tremaining: 20.8s\n",
      "30:\tlearn: 32649.9157171\ttest: 44923.3042330\tbest: 44923.3042330 (30)\ttotal: 1.38s\tremaining: 20.8s\n",
      "31:\tlearn: 32388.9894432\ttest: 44642.5285377\tbest: 44642.5285377 (31)\ttotal: 1.42s\tremaining: 20.7s\n",
      "32:\tlearn: 31788.7747222\ttest: 44333.5417072\tbest: 44333.5417072 (32)\ttotal: 1.46s\tremaining: 20.7s\n",
      "33:\tlearn: 31126.8731028\ttest: 43764.4415955\tbest: 43764.4415955 (33)\ttotal: 1.5s\tremaining: 20.5s\n",
      "34:\tlearn: 30652.9210976\ttest: 43384.3516733\tbest: 43384.3516733 (34)\ttotal: 1.54s\tremaining: 20.5s\n",
      "35:\tlearn: 30247.8989559\ttest: 43014.1773966\tbest: 43014.1773966 (35)\ttotal: 1.58s\tremaining: 20.4s\n",
      "36:\tlearn: 30011.6787160\ttest: 42769.2855208\tbest: 42769.2855208 (36)\ttotal: 1.63s\tremaining: 20.4s\n",
      "37:\tlearn: 29691.7818161\ttest: 42473.9783172\tbest: 42473.9783172 (37)\ttotal: 1.67s\tremaining: 20.3s\n",
      "38:\tlearn: 29277.2701197\ttest: 42209.5252376\tbest: 42209.5252376 (38)\ttotal: 1.72s\tremaining: 20.3s\n",
      "39:\tlearn: 29061.7752448\ttest: 41982.6144935\tbest: 41982.6144935 (39)\ttotal: 1.76s\tremaining: 20.2s\n",
      "40:\tlearn: 28870.5533410\ttest: 41761.8162956\tbest: 41761.8162956 (40)\ttotal: 1.81s\tremaining: 20.2s\n",
      "41:\tlearn: 28701.6559243\ttest: 41593.8669389\tbest: 41593.8669389 (41)\ttotal: 1.85s\tremaining: 20.2s\n",
      "42:\tlearn: 28412.0812262\ttest: 41305.8576763\tbest: 41305.8576763 (42)\ttotal: 1.89s\tremaining: 20.1s\n",
      "43:\tlearn: 28010.3322237\ttest: 41072.0641887\tbest: 41072.0641887 (43)\ttotal: 1.93s\tremaining: 20s\n",
      "44:\tlearn: 27865.8288619\ttest: 40914.4048932\tbest: 40914.4048932 (44)\ttotal: 1.98s\tremaining: 20s\n",
      "45:\tlearn: 27647.6066817\ttest: 40722.6726672\tbest: 40722.6726672 (45)\ttotal: 2.02s\tremaining: 19.9s\n",
      "46:\tlearn: 27358.8903826\ttest: 40363.1478093\tbest: 40363.1478093 (46)\ttotal: 2.07s\tremaining: 20s\n",
      "47:\tlearn: 27128.5446431\ttest: 40274.9788640\tbest: 40274.9788640 (47)\ttotal: 2.11s\tremaining: 19.8s\n",
      "48:\tlearn: 27025.8401333\ttest: 40188.6852518\tbest: 40188.6852518 (48)\ttotal: 2.15s\tremaining: 19.8s\n",
      "49:\tlearn: 26896.1367246\ttest: 40079.4561093\tbest: 40079.4561093 (49)\ttotal: 2.19s\tremaining: 19.7s\n",
      "50:\tlearn: 26881.4727165\ttest: 40062.7877734\tbest: 40062.7877734 (50)\ttotal: 2.24s\tremaining: 19.7s\n",
      "51:\tlearn: 26595.4547858\ttest: 40026.2072963\tbest: 40026.2072963 (51)\ttotal: 2.28s\tremaining: 19.7s\n",
      "52:\tlearn: 26576.6274744\ttest: 40006.3589435\tbest: 40006.3589435 (52)\ttotal: 2.32s\tremaining: 19.6s\n",
      "53:\tlearn: 26455.0918044\ttest: 39847.4150010\tbest: 39847.4150010 (53)\ttotal: 2.37s\tremaining: 19.6s\n",
      "54:\tlearn: 26355.7009588\ttest: 39792.8612957\tbest: 39792.8612957 (54)\ttotal: 2.42s\tremaining: 19.6s\n",
      "55:\tlearn: 26167.4334952\ttest: 39527.3222698\tbest: 39527.3222698 (55)\ttotal: 2.46s\tremaining: 19.5s\n",
      "56:\tlearn: 26159.7403730\ttest: 39523.5460464\tbest: 39523.5460464 (56)\ttotal: 2.5s\tremaining: 19.4s\n",
      "57:\tlearn: 26049.8106747\ttest: 39356.5435031\tbest: 39356.5435031 (57)\ttotal: 2.54s\tremaining: 19.4s\n",
      "58:\tlearn: 26007.8523380\ttest: 39263.5908984\tbest: 39263.5908984 (58)\ttotal: 2.58s\tremaining: 19.3s\n",
      "59:\tlearn: 25807.5233453\ttest: 39113.3577260\tbest: 39113.3577260 (59)\ttotal: 2.63s\tremaining: 19.3s\n",
      "60:\tlearn: 25668.2502741\ttest: 38959.2677712\tbest: 38959.2677712 (60)\ttotal: 2.68s\tremaining: 19.3s\n",
      "61:\tlearn: 25666.8024764\ttest: 38962.7310019\tbest: 38959.2677712 (60)\ttotal: 2.71s\tremaining: 19.1s\n",
      "62:\tlearn: 25586.1791125\ttest: 38890.6195730\tbest: 38890.6195730 (62)\ttotal: 2.75s\tremaining: 19.1s\n",
      "63:\tlearn: 25531.9167258\ttest: 38829.3340101\tbest: 38829.3340101 (63)\ttotal: 2.79s\tremaining: 19s\n",
      "64:\tlearn: 25406.4152684\ttest: 38637.4209395\tbest: 38637.4209395 (64)\ttotal: 2.84s\tremaining: 19s\n",
      "65:\tlearn: 25319.0094383\ttest: 38513.2089694\tbest: 38513.2089694 (65)\ttotal: 2.88s\tremaining: 19s\n",
      "66:\tlearn: 25263.6156441\ttest: 38461.9660460\tbest: 38461.9660460 (66)\ttotal: 2.93s\tremaining: 18.9s\n",
      "67:\tlearn: 25249.3116299\ttest: 38441.4327231\tbest: 38441.4327231 (67)\ttotal: 2.96s\tremaining: 18.8s\n",
      "68:\tlearn: 25224.1479139\ttest: 38380.6115231\tbest: 38380.6115231 (68)\ttotal: 3.01s\tremaining: 18.8s\n",
      "69:\tlearn: 25121.0070993\ttest: 38413.0447403\tbest: 38380.6115231 (68)\ttotal: 3.05s\tremaining: 18.8s\n",
      "70:\tlearn: 24964.5440655\ttest: 38225.0781257\tbest: 38225.0781257 (70)\ttotal: 3.1s\tremaining: 18.8s\n",
      "71:\tlearn: 24906.0663336\ttest: 38227.8537606\tbest: 38225.0781257 (70)\ttotal: 3.14s\tremaining: 18.7s\n",
      "72:\tlearn: 24841.3427631\ttest: 38230.0138951\tbest: 38225.0781257 (70)\ttotal: 3.18s\tremaining: 18.6s\n",
      "73:\tlearn: 24665.7392514\ttest: 38080.7202866\tbest: 38080.7202866 (73)\ttotal: 3.23s\tremaining: 18.6s\n",
      "74:\tlearn: 24615.1838555\ttest: 38079.7329616\tbest: 38079.7329616 (74)\ttotal: 3.27s\tremaining: 18.6s\n",
      "75:\tlearn: 24539.8795633\ttest: 38005.6532155\tbest: 38005.6532155 (75)\ttotal: 3.32s\tremaining: 18.5s\n",
      "76:\tlearn: 24348.2354987\ttest: 37828.9906016\tbest: 37828.9906016 (76)\ttotal: 3.36s\tremaining: 18.4s\n",
      "77:\tlearn: 24295.4427100\ttest: 37822.7845106\tbest: 37822.7845106 (77)\ttotal: 3.4s\tremaining: 18.4s\n",
      "78:\tlearn: 24256.5938614\ttest: 37817.5020166\tbest: 37817.5020166 (78)\ttotal: 3.44s\tremaining: 18.3s\n",
      "79:\tlearn: 24138.6418597\ttest: 37767.5382526\tbest: 37767.5382526 (79)\ttotal: 3.48s\tremaining: 18.3s\n",
      "80:\tlearn: 24106.8318866\ttest: 37767.6682833\tbest: 37767.5382526 (79)\ttotal: 3.53s\tremaining: 18.3s\n",
      "81:\tlearn: 23945.3869073\ttest: 37671.2104006\tbest: 37671.2104006 (81)\ttotal: 3.57s\tremaining: 18.2s\n",
      "82:\tlearn: 23904.9030626\ttest: 37655.6487809\tbest: 37655.6487809 (82)\ttotal: 3.62s\tremaining: 18.2s\n",
      "83:\tlearn: 23839.2446548\ttest: 37596.0668609\tbest: 37596.0668609 (83)\ttotal: 3.66s\tremaining: 18.1s\n",
      "84:\tlearn: 23705.6472419\ttest: 37471.9930919\tbest: 37471.9930919 (84)\ttotal: 3.71s\tremaining: 18.1s\n",
      "85:\tlearn: 23634.1295138\ttest: 37309.6892027\tbest: 37309.6892027 (85)\ttotal: 3.75s\tremaining: 18.1s\n",
      "86:\tlearn: 23603.9640396\ttest: 37308.6045206\tbest: 37308.6045206 (86)\ttotal: 3.79s\tremaining: 18s\n"
     ]
    },
    {
     "name": "stdout",
     "output_type": "stream",
     "text": [
      "87:\tlearn: 23576.5384182\ttest: 37310.4193851\tbest: 37308.6045206 (86)\ttotal: 3.83s\tremaining: 17.9s\n",
      "88:\tlearn: 23549.3709102\ttest: 37312.4916014\tbest: 37308.6045206 (86)\ttotal: 3.87s\tremaining: 17.9s\n",
      "89:\tlearn: 23494.3885732\ttest: 37239.1033800\tbest: 37239.1033800 (89)\ttotal: 3.92s\tremaining: 17.9s\n",
      "90:\tlearn: 23468.9306479\ttest: 37179.5770049\tbest: 37179.5770049 (90)\ttotal: 3.97s\tremaining: 17.8s\n",
      "91:\tlearn: 23425.7691228\ttest: 37110.8196787\tbest: 37110.8196787 (91)\ttotal: 4s\tremaining: 17.8s\n",
      "92:\tlearn: 23374.6940442\ttest: 37069.6853027\tbest: 37069.6853027 (92)\ttotal: 4.05s\tremaining: 17.7s\n",
      "93:\tlearn: 23336.7053580\ttest: 37024.5410509\tbest: 37024.5410509 (93)\ttotal: 4.09s\tremaining: 17.7s\n",
      "94:\tlearn: 23222.9538319\ttest: 36901.6511057\tbest: 36901.6511057 (94)\ttotal: 4.14s\tremaining: 17.6s\n",
      "95:\tlearn: 23209.0512537\ttest: 36895.6195385\tbest: 36895.6195385 (95)\ttotal: 4.17s\tremaining: 17.6s\n",
      "96:\tlearn: 23151.0167208\ttest: 36876.2608735\tbest: 36876.2608735 (96)\ttotal: 4.22s\tremaining: 17.5s\n",
      "97:\tlearn: 23125.9128486\ttest: 36856.5446688\tbest: 36856.5446688 (97)\ttotal: 4.26s\tremaining: 17.5s\n",
      "98:\tlearn: 23032.9758823\ttest: 36728.9240927\tbest: 36728.9240927 (98)\ttotal: 4.31s\tremaining: 17.5s\n",
      "99:\tlearn: 22975.6768297\ttest: 36734.2298161\tbest: 36728.9240927 (98)\ttotal: 4.35s\tremaining: 17.4s\n",
      "100:\tlearn: 22953.7505628\ttest: 36726.8690901\tbest: 36726.8690901 (100)\ttotal: 4.39s\tremaining: 17.4s\n",
      "101:\tlearn: 22900.8147122\ttest: 36693.0759788\tbest: 36693.0759788 (101)\ttotal: 4.43s\tremaining: 17.3s\n",
      "102:\tlearn: 22826.5833905\ttest: 36730.0414612\tbest: 36693.0759788 (101)\ttotal: 4.48s\tremaining: 17.3s\n",
      "103:\tlearn: 22808.0571900\ttest: 36738.2531823\tbest: 36693.0759788 (101)\ttotal: 4.53s\tremaining: 17.2s\n",
      "104:\tlearn: 22781.7011779\ttest: 36735.1910105\tbest: 36693.0759788 (101)\ttotal: 4.57s\tremaining: 17.2s\n",
      "105:\tlearn: 22704.4728699\ttest: 36666.5884213\tbest: 36666.5884213 (105)\ttotal: 4.61s\tremaining: 17.1s\n",
      "106:\tlearn: 22588.7757898\ttest: 36603.9958024\tbest: 36603.9958024 (106)\ttotal: 4.65s\tremaining: 17.1s\n",
      "107:\tlearn: 22581.6985427\ttest: 36597.7353126\tbest: 36597.7353126 (107)\ttotal: 4.69s\tremaining: 17s\n",
      "108:\tlearn: 22547.6755269\ttest: 36600.0090484\tbest: 36597.7353126 (107)\ttotal: 4.74s\tremaining: 17s\n",
      "109:\tlearn: 22531.3118233\ttest: 36596.5614867\tbest: 36596.5614867 (109)\ttotal: 4.78s\tremaining: 17s\n",
      "110:\tlearn: 22517.0718406\ttest: 36593.1108131\tbest: 36593.1108131 (110)\ttotal: 4.82s\tremaining: 16.9s\n",
      "111:\tlearn: 22479.2657193\ttest: 36605.8506535\tbest: 36593.1108131 (110)\ttotal: 4.86s\tremaining: 16.8s\n",
      "112:\tlearn: 22456.8758298\ttest: 36555.7366672\tbest: 36555.7366672 (112)\ttotal: 4.91s\tremaining: 16.8s\n",
      "113:\tlearn: 22456.5185616\ttest: 36553.7178281\tbest: 36553.7178281 (113)\ttotal: 4.95s\tremaining: 16.8s\n",
      "114:\tlearn: 22322.3755646\ttest: 36446.1969667\tbest: 36446.1969667 (114)\ttotal: 5.01s\tremaining: 16.8s\n",
      "115:\tlearn: 22290.5160683\ttest: 36398.1591016\tbest: 36398.1591016 (115)\ttotal: 5.04s\tremaining: 16.7s\n",
      "116:\tlearn: 22279.2283918\ttest: 36395.9984001\tbest: 36395.9984001 (116)\ttotal: 5.09s\tremaining: 16.7s\n",
      "117:\tlearn: 22256.3858144\ttest: 36382.5186475\tbest: 36382.5186475 (117)\ttotal: 5.15s\tremaining: 16.7s\n",
      "118:\tlearn: 22219.3853049\ttest: 36314.2472236\tbest: 36314.2472236 (118)\ttotal: 5.21s\tremaining: 16.7s\n",
      "119:\tlearn: 22199.0180817\ttest: 36285.5574518\tbest: 36285.5574518 (119)\ttotal: 5.24s\tremaining: 16.6s\n",
      "120:\tlearn: 22177.0024138\ttest: 36301.1704008\tbest: 36285.5574518 (119)\ttotal: 5.29s\tremaining: 16.6s\n",
      "121:\tlearn: 22167.2432656\ttest: 36297.6980289\tbest: 36285.5574518 (119)\ttotal: 5.33s\tremaining: 16.5s\n",
      "122:\tlearn: 22103.3578500\ttest: 36290.4747904\tbest: 36285.5574518 (119)\ttotal: 5.37s\tremaining: 16.5s\n",
      "123:\tlearn: 22101.4560196\ttest: 36291.2947769\tbest: 36285.5574518 (119)\ttotal: 5.41s\tremaining: 16.4s\n",
      "124:\tlearn: 22050.7914137\ttest: 36251.7389870\tbest: 36251.7389870 (124)\ttotal: 5.46s\tremaining: 16.4s\n",
      "125:\tlearn: 22027.6929779\ttest: 36252.7873599\tbest: 36251.7389870 (124)\ttotal: 5.5s\tremaining: 16.3s\n",
      "126:\tlearn: 22016.1987263\ttest: 36249.3382657\tbest: 36249.3382657 (126)\ttotal: 5.55s\tremaining: 16.3s\n",
      "127:\tlearn: 21918.6768249\ttest: 36211.7762727\tbest: 36211.7762727 (127)\ttotal: 5.58s\tremaining: 16.2s\n",
      "128:\tlearn: 21908.9362929\ttest: 36210.4785981\tbest: 36210.4785981 (128)\ttotal: 5.63s\tremaining: 16.2s\n",
      "129:\tlearn: 21902.7621554\ttest: 36209.6340788\tbest: 36209.6340788 (129)\ttotal: 5.67s\tremaining: 16.1s\n",
      "130:\tlearn: 21892.4689032\ttest: 36240.3758120\tbest: 36209.6340788 (129)\ttotal: 5.71s\tremaining: 16.1s\n",
      "131:\tlearn: 21870.3521337\ttest: 36199.2580673\tbest: 36199.2580673 (131)\ttotal: 5.75s\tremaining: 16s\n",
      "132:\tlearn: 21817.2561236\ttest: 36177.9857921\tbest: 36177.9857921 (132)\ttotal: 5.8s\tremaining: 16s\n",
      "133:\tlearn: 21802.5413583\ttest: 36188.6692223\tbest: 36177.9857921 (132)\ttotal: 5.83s\tremaining: 15.9s\n",
      "134:\tlearn: 21799.6761249\ttest: 36189.9658665\tbest: 36177.9857921 (132)\ttotal: 5.88s\tremaining: 15.9s\n",
      "135:\tlearn: 21781.5265044\ttest: 36152.9769625\tbest: 36152.9769625 (135)\ttotal: 5.92s\tremaining: 15.8s\n",
      "136:\tlearn: 21766.6948901\ttest: 36117.6750559\tbest: 36117.6750559 (136)\ttotal: 5.96s\tremaining: 15.8s\n",
      "137:\tlearn: 21738.6509569\ttest: 36067.0177258\tbest: 36067.0177258 (137)\ttotal: 6s\tremaining: 15.7s\n",
      "138:\tlearn: 21684.0331214\ttest: 35992.1642541\tbest: 35992.1642541 (138)\ttotal: 6.04s\tremaining: 15.7s\n",
      "139:\tlearn: 21649.0953798\ttest: 35974.6529680\tbest: 35974.6529680 (139)\ttotal: 6.08s\tremaining: 15.6s\n",
      "140:\tlearn: 21641.6138740\ttest: 36002.1997879\tbest: 35974.6529680 (139)\ttotal: 6.13s\tremaining: 15.6s\n",
      "141:\tlearn: 21530.3904020\ttest: 35905.8793896\tbest: 35905.8793896 (141)\ttotal: 6.17s\tremaining: 15.6s\n",
      "142:\tlearn: 21472.6055474\ttest: 35865.0881230\tbest: 35865.0881230 (142)\ttotal: 6.21s\tremaining: 15.5s\n",
      "143:\tlearn: 21463.0007758\ttest: 35835.4930826\tbest: 35835.4930826 (143)\ttotal: 6.24s\tremaining: 15.4s\n",
      "144:\tlearn: 21442.3460159\ttest: 35799.3655811\tbest: 35799.3655811 (144)\ttotal: 6.29s\tremaining: 15.4s\n",
      "145:\tlearn: 21429.5836791\ttest: 35824.0998097\tbest: 35799.3655811 (144)\ttotal: 6.33s\tremaining: 15.4s\n",
      "146:\tlearn: 21418.3996669\ttest: 35810.5300047\tbest: 35799.3655811 (144)\ttotal: 6.37s\tremaining: 15.3s\n",
      "147:\tlearn: 21407.5722687\ttest: 35820.2222982\tbest: 35799.3655811 (144)\ttotal: 6.41s\tremaining: 15.2s\n",
      "148:\tlearn: 21313.4227372\ttest: 35792.6159001\tbest: 35792.6159001 (148)\ttotal: 6.45s\tremaining: 15.2s\n",
      "149:\tlearn: 21242.5087290\ttest: 35730.3450688\tbest: 35730.3450688 (149)\ttotal: 6.49s\tremaining: 15.1s\n",
      "150:\tlearn: 21233.7147360\ttest: 35705.9805051\tbest: 35705.9805051 (150)\ttotal: 6.54s\tremaining: 15.1s\n",
      "151:\tlearn: 21231.5659404\ttest: 35707.4552375\tbest: 35705.9805051 (150)\ttotal: 6.58s\tremaining: 15.1s\n",
      "152:\tlearn: 21203.6151967\ttest: 35675.9366811\tbest: 35675.9366811 (152)\ttotal: 6.62s\tremaining: 15s\n",
      "153:\tlearn: 21173.2574944\ttest: 35662.2813758\tbest: 35662.2813758 (153)\ttotal: 6.66s\tremaining: 15s\n",
      "154:\tlearn: 21137.7792363\ttest: 35619.5906957\tbest: 35619.5906957 (154)\ttotal: 6.7s\tremaining: 14.9s\n",
      "155:\tlearn: 21107.8022014\ttest: 35633.3156288\tbest: 35619.5906957 (154)\ttotal: 6.75s\tremaining: 14.9s\n",
      "156:\tlearn: 21096.9592776\ttest: 35637.1650515\tbest: 35619.5906957 (154)\ttotal: 6.79s\tremaining: 14.8s\n",
      "157:\tlearn: 21022.9930766\ttest: 35604.8042612\tbest: 35604.8042612 (157)\ttotal: 6.83s\tremaining: 14.8s\n",
      "158:\tlearn: 21021.3200131\ttest: 35605.0727150\tbest: 35604.8042612 (157)\ttotal: 6.87s\tremaining: 14.7s\n",
      "159:\tlearn: 21014.1201313\ttest: 35605.2334794\tbest: 35604.8042612 (157)\ttotal: 6.91s\tremaining: 14.7s\n",
      "160:\tlearn: 21008.9677482\ttest: 35629.1737157\tbest: 35604.8042612 (157)\ttotal: 6.96s\tremaining: 14.6s\n",
      "161:\tlearn: 20978.2004526\ttest: 35586.0167485\tbest: 35586.0167485 (161)\ttotal: 6.99s\tremaining: 14.6s\n",
      "162:\tlearn: 20961.5380431\ttest: 35589.8356874\tbest: 35586.0167485 (161)\ttotal: 7.04s\tremaining: 14.5s\n",
      "163:\tlearn: 20945.1963604\ttest: 35611.5814512\tbest: 35586.0167485 (161)\ttotal: 7.07s\tremaining: 14.5s\n",
      "164:\tlearn: 20937.6045521\ttest: 35595.9886830\tbest: 35586.0167485 (161)\ttotal: 7.11s\tremaining: 14.4s\n",
      "165:\tlearn: 20875.7488432\ttest: 35552.3968912\tbest: 35552.3968912 (165)\ttotal: 7.16s\tremaining: 14.4s\n",
      "166:\tlearn: 20855.5923460\ttest: 35540.8937212\tbest: 35540.8937212 (166)\ttotal: 7.2s\tremaining: 14.4s\n",
      "167:\tlearn: 20835.1696581\ttest: 35547.2002915\tbest: 35540.8937212 (166)\ttotal: 7.24s\tremaining: 14.3s\n",
      "168:\tlearn: 20833.4181134\ttest: 35546.2259972\tbest: 35540.8937212 (166)\ttotal: 7.28s\tremaining: 14.3s\n"
     ]
    },
    {
     "name": "stdout",
     "output_type": "stream",
     "text": [
      "169:\tlearn: 20830.0086269\ttest: 35544.9824025\tbest: 35540.8937212 (166)\ttotal: 7.32s\tremaining: 14.2s\n",
      "170:\tlearn: 20821.8673666\ttest: 35540.9548359\tbest: 35540.8937212 (166)\ttotal: 7.37s\tremaining: 14.2s\n",
      "171:\tlearn: 20805.8311147\ttest: 35565.7436079\tbest: 35540.8937212 (166)\ttotal: 7.4s\tremaining: 14.1s\n",
      "172:\tlearn: 20768.2158159\ttest: 35520.9350083\tbest: 35520.9350083 (172)\ttotal: 7.45s\tremaining: 14.1s\n",
      "173:\tlearn: 20761.0892713\ttest: 35520.8787669\tbest: 35520.8787669 (173)\ttotal: 7.48s\tremaining: 14s\n",
      "174:\tlearn: 20753.9071064\ttest: 35491.1494600\tbest: 35491.1494600 (174)\ttotal: 7.53s\tremaining: 14s\n",
      "175:\tlearn: 20701.7677207\ttest: 35424.9740118\tbest: 35424.9740118 (175)\ttotal: 7.57s\tremaining: 13.9s\n",
      "176:\tlearn: 20695.8615583\ttest: 35429.6112546\tbest: 35424.9740118 (175)\ttotal: 7.62s\tremaining: 13.9s\n",
      "177:\tlearn: 20685.2800746\ttest: 35410.1531640\tbest: 35410.1531640 (177)\ttotal: 7.65s\tremaining: 13.8s\n",
      "178:\tlearn: 20633.4536277\ttest: 35352.1270998\tbest: 35352.1270998 (178)\ttotal: 7.7s\tremaining: 13.8s\n",
      "179:\tlearn: 20629.1717278\ttest: 35352.8293212\tbest: 35352.1270998 (178)\ttotal: 7.73s\tremaining: 13.8s\n",
      "180:\tlearn: 20580.1542994\ttest: 35327.0286422\tbest: 35327.0286422 (180)\ttotal: 7.78s\tremaining: 13.7s\n",
      "181:\tlearn: 20569.2570119\ttest: 35334.6623960\tbest: 35327.0286422 (180)\ttotal: 7.82s\tremaining: 13.7s\n",
      "182:\tlearn: 20566.6442113\ttest: 35334.4212125\tbest: 35327.0286422 (180)\ttotal: 7.86s\tremaining: 13.6s\n",
      "183:\tlearn: 20565.5739026\ttest: 35334.7630801\tbest: 35327.0286422 (180)\ttotal: 7.9s\tremaining: 13.6s\n",
      "184:\tlearn: 20560.0762129\ttest: 35317.9870937\tbest: 35317.9870937 (184)\ttotal: 7.94s\tremaining: 13.5s\n",
      "185:\tlearn: 20510.9394076\ttest: 35319.0746846\tbest: 35317.9870937 (184)\ttotal: 7.98s\tremaining: 13.5s\n",
      "186:\tlearn: 20507.8981457\ttest: 35316.7602350\tbest: 35316.7602350 (186)\ttotal: 8.03s\tremaining: 13.4s\n",
      "187:\tlearn: 20503.7264921\ttest: 35332.5978307\tbest: 35316.7602350 (186)\ttotal: 8.07s\tremaining: 13.4s\n",
      "188:\tlearn: 20500.9377254\ttest: 35330.4386415\tbest: 35316.7602350 (186)\ttotal: 8.11s\tremaining: 13.3s\n",
      "189:\tlearn: 20497.8526931\ttest: 35328.7574196\tbest: 35316.7602350 (186)\ttotal: 8.15s\tremaining: 13.3s\n",
      "190:\tlearn: 20493.5917305\ttest: 35329.4652621\tbest: 35316.7602350 (186)\ttotal: 8.2s\tremaining: 13.3s\n",
      "191:\tlearn: 20478.8559433\ttest: 35364.3622772\tbest: 35316.7602350 (186)\ttotal: 8.24s\tremaining: 13.2s\n",
      "192:\tlearn: 20472.4810954\ttest: 35366.0098047\tbest: 35316.7602350 (186)\ttotal: 8.28s\tremaining: 13.2s\n",
      "193:\tlearn: 20431.9422399\ttest: 35319.3279304\tbest: 35316.7602350 (186)\ttotal: 8.32s\tremaining: 13.1s\n",
      "194:\tlearn: 20385.9535649\ttest: 35290.5615754\tbest: 35290.5615754 (194)\ttotal: 8.36s\tremaining: 13.1s\n",
      "195:\tlearn: 20328.5936180\ttest: 35275.8021425\tbest: 35275.8021425 (195)\ttotal: 8.4s\tremaining: 13s\n",
      "196:\tlearn: 20287.9889549\ttest: 35238.5687135\tbest: 35238.5687135 (196)\ttotal: 8.45s\tremaining: 13s\n",
      "197:\tlearn: 20286.3884636\ttest: 35228.6293058\tbest: 35228.6293058 (197)\ttotal: 8.49s\tremaining: 12.9s\n",
      "198:\tlearn: 20282.5760727\ttest: 35229.4604770\tbest: 35228.6293058 (197)\ttotal: 8.53s\tremaining: 12.9s\n",
      "199:\tlearn: 20275.9159747\ttest: 35230.3012910\tbest: 35228.6293058 (197)\ttotal: 8.58s\tremaining: 12.9s\n",
      "200:\tlearn: 20272.9670547\ttest: 35227.3196548\tbest: 35227.3196548 (200)\ttotal: 8.63s\tremaining: 12.8s\n",
      "201:\tlearn: 20233.3843275\ttest: 35188.5179309\tbest: 35188.5179309 (201)\ttotal: 8.66s\tremaining: 12.8s\n",
      "202:\tlearn: 20202.8270020\ttest: 35178.0693628\tbest: 35178.0693628 (202)\ttotal: 8.71s\tremaining: 12.7s\n",
      "203:\tlearn: 20200.6171391\ttest: 35176.0229650\tbest: 35176.0229650 (203)\ttotal: 8.74s\tremaining: 12.7s\n",
      "204:\tlearn: 20198.7683684\ttest: 35174.8562615\tbest: 35174.8562615 (204)\ttotal: 8.79s\tremaining: 12.6s\n",
      "205:\tlearn: 20192.9689158\ttest: 35181.6462962\tbest: 35174.8562615 (204)\ttotal: 8.83s\tremaining: 12.6s\n",
      "206:\tlearn: 20191.3225983\ttest: 35180.4147405\tbest: 35174.8562615 (204)\ttotal: 8.88s\tremaining: 12.6s\n",
      "207:\tlearn: 20184.6687293\ttest: 35157.0951040\tbest: 35157.0951040 (207)\ttotal: 8.91s\tremaining: 12.5s\n",
      "208:\tlearn: 20182.6046750\ttest: 35155.4395337\tbest: 35155.4395337 (208)\ttotal: 8.96s\tremaining: 12.5s\n",
      "209:\tlearn: 20143.6454982\ttest: 35100.5348593\tbest: 35100.5348593 (209)\ttotal: 8.99s\tremaining: 12.4s\n",
      "210:\tlearn: 20065.1084310\ttest: 35059.8722484\tbest: 35059.8722484 (210)\ttotal: 9.04s\tremaining: 12.4s\n",
      "211:\tlearn: 20055.9718629\ttest: 35058.0165946\tbest: 35058.0165946 (211)\ttotal: 9.08s\tremaining: 12.3s\n",
      "212:\tlearn: 20054.4884473\ttest: 35057.7681953\tbest: 35057.7681953 (212)\ttotal: 9.12s\tremaining: 12.3s\n",
      "213:\tlearn: 20053.1374262\ttest: 35057.8250349\tbest: 35057.7681953 (212)\ttotal: 9.16s\tremaining: 12.2s\n",
      "214:\tlearn: 19986.5537837\ttest: 35010.8916315\tbest: 35010.8916315 (214)\ttotal: 9.21s\tremaining: 12.2s\n",
      "215:\tlearn: 19983.1921427\ttest: 35000.2031118\tbest: 35000.2031118 (215)\ttotal: 9.25s\tremaining: 12.2s\n",
      "216:\tlearn: 19981.9185284\ttest: 34999.4891810\tbest: 34999.4891810 (216)\ttotal: 9.3s\tremaining: 12.1s\n",
      "217:\tlearn: 19967.8931482\ttest: 35022.3401654\tbest: 34999.4891810 (216)\ttotal: 9.34s\tremaining: 12.1s\n",
      "218:\tlearn: 19952.5614189\ttest: 35022.2375474\tbest: 34999.4891810 (216)\ttotal: 9.39s\tremaining: 12s\n",
      "219:\tlearn: 19941.1777895\ttest: 35020.9970192\tbest: 34999.4891810 (216)\ttotal: 9.44s\tremaining: 12s\n",
      "220:\tlearn: 19938.0986140\ttest: 35021.8125827\tbest: 34999.4891810 (216)\ttotal: 9.49s\tremaining: 12s\n",
      "221:\tlearn: 19929.6930553\ttest: 35030.3858433\tbest: 34999.4891810 (216)\ttotal: 9.53s\tremaining: 11.9s\n",
      "222:\tlearn: 19928.5645567\ttest: 35029.8526600\tbest: 34999.4891810 (216)\ttotal: 9.57s\tremaining: 11.9s\n",
      "223:\tlearn: 19865.6339011\ttest: 35040.9599513\tbest: 34999.4891810 (216)\ttotal: 9.63s\tremaining: 11.9s\n",
      "224:\tlearn: 19831.1248654\ttest: 34980.9302480\tbest: 34980.9302480 (224)\ttotal: 9.68s\tremaining: 11.8s\n",
      "225:\tlearn: 19789.1524380\ttest: 34932.2986242\tbest: 34932.2986242 (225)\ttotal: 9.72s\tremaining: 11.8s\n",
      "226:\tlearn: 19784.6907231\ttest: 34951.4385991\tbest: 34932.2986242 (225)\ttotal: 9.76s\tremaining: 11.7s\n",
      "227:\tlearn: 19741.2996842\ttest: 34931.6381270\tbest: 34931.6381270 (227)\ttotal: 9.81s\tremaining: 11.7s\n",
      "228:\tlearn: 19735.6243718\ttest: 34929.5603054\tbest: 34929.5603054 (228)\ttotal: 9.86s\tremaining: 11.7s\n",
      "229:\tlearn: 19695.8338726\ttest: 34939.2300198\tbest: 34929.5603054 (228)\ttotal: 9.9s\tremaining: 11.6s\n",
      "230:\tlearn: 19685.5229335\ttest: 34943.3539381\tbest: 34929.5603054 (228)\ttotal: 9.95s\tremaining: 11.6s\n",
      "231:\tlearn: 19662.5692051\ttest: 34952.9465622\tbest: 34929.5603054 (228)\ttotal: 10s\tremaining: 11.6s\n",
      "232:\tlearn: 19637.9700717\ttest: 34929.1086150\tbest: 34929.1086150 (232)\ttotal: 10.1s\tremaining: 11.5s\n",
      "233:\tlearn: 19635.2481838\ttest: 34917.1323341\tbest: 34917.1323341 (233)\ttotal: 10.1s\tremaining: 11.5s\n",
      "234:\tlearn: 19633.1763922\ttest: 34923.1915133\tbest: 34917.1323341 (233)\ttotal: 10.1s\tremaining: 11.4s\n",
      "235:\tlearn: 19625.7719286\ttest: 34912.4138464\tbest: 34912.4138464 (235)\ttotal: 10.2s\tremaining: 11.4s\n",
      "236:\tlearn: 19576.9169896\ttest: 34953.5422959\tbest: 34912.4138464 (235)\ttotal: 10.2s\tremaining: 11.4s\n",
      "237:\tlearn: 19574.5677535\ttest: 34953.2090029\tbest: 34912.4138464 (235)\ttotal: 10.3s\tremaining: 11.3s\n",
      "238:\tlearn: 19542.5973997\ttest: 34950.2314039\tbest: 34912.4138464 (235)\ttotal: 10.3s\tremaining: 11.3s\n",
      "239:\tlearn: 19539.5969766\ttest: 34938.2201544\tbest: 34912.4138464 (235)\ttotal: 10.4s\tremaining: 11.2s\n",
      "240:\tlearn: 19539.0788697\ttest: 34938.1332830\tbest: 34912.4138464 (235)\ttotal: 10.4s\tremaining: 11.2s\n",
      "241:\tlearn: 19532.8983092\ttest: 34927.4925248\tbest: 34912.4138464 (235)\ttotal: 10.5s\tremaining: 11.2s\n",
      "242:\tlearn: 19483.7059778\ttest: 34883.0042980\tbest: 34883.0042980 (242)\ttotal: 10.5s\tremaining: 11.1s\n",
      "243:\tlearn: 19479.5821091\ttest: 34864.6532853\tbest: 34864.6532853 (243)\ttotal: 10.6s\tremaining: 11.1s\n",
      "244:\tlearn: 19475.7927528\ttest: 34847.4382896\tbest: 34847.4382896 (244)\ttotal: 10.6s\tremaining: 11.1s\n",
      "245:\tlearn: 19471.8593857\ttest: 34862.5629767\tbest: 34847.4382896 (244)\ttotal: 10.7s\tremaining: 11s\n",
      "246:\tlearn: 19466.8624931\ttest: 34886.0159843\tbest: 34847.4382896 (244)\ttotal: 10.7s\tremaining: 11s\n",
      "247:\tlearn: 19447.4866253\ttest: 34906.5578301\tbest: 34847.4382896 (244)\ttotal: 10.8s\tremaining: 10.9s\n",
      "248:\tlearn: 19444.0740628\ttest: 34921.2283917\tbest: 34847.4382896 (244)\ttotal: 10.8s\tremaining: 10.9s\n",
      "249:\tlearn: 19363.8366852\ttest: 34856.1523970\tbest: 34847.4382896 (244)\ttotal: 10.9s\tremaining: 10.9s\n"
     ]
    },
    {
     "name": "stdout",
     "output_type": "stream",
     "text": [
      "250:\tlearn: 19363.0522968\ttest: 34856.8754594\tbest: 34847.4382896 (244)\ttotal: 10.9s\tremaining: 10.8s\n",
      "251:\tlearn: 19309.4961187\ttest: 34849.0257972\tbest: 34847.4382896 (244)\ttotal: 10.9s\tremaining: 10.8s\n",
      "252:\tlearn: 19302.1261457\ttest: 34838.7760731\tbest: 34838.7760731 (252)\ttotal: 11s\tremaining: 10.7s\n",
      "253:\tlearn: 19299.3261571\ttest: 34824.3951843\tbest: 34824.3951843 (253)\ttotal: 11s\tremaining: 10.7s\n",
      "254:\tlearn: 19297.5565019\ttest: 34828.7756398\tbest: 34824.3951843 (253)\ttotal: 11.1s\tremaining: 10.6s\n",
      "255:\tlearn: 19274.4572775\ttest: 34800.7164500\tbest: 34800.7164500 (255)\ttotal: 11.1s\tremaining: 10.6s\n",
      "256:\tlearn: 19230.7167397\ttest: 34760.6195264\tbest: 34760.6195264 (256)\ttotal: 11.2s\tremaining: 10.6s\n",
      "257:\tlearn: 19172.7798035\ttest: 34694.6080387\tbest: 34694.6080387 (257)\ttotal: 11.2s\tremaining: 10.5s\n",
      "258:\tlearn: 19165.5980058\ttest: 34678.0968236\tbest: 34678.0968236 (258)\ttotal: 11.3s\tremaining: 10.5s\n",
      "259:\tlearn: 19165.1252213\ttest: 34678.7920627\tbest: 34678.0968236 (258)\ttotal: 11.3s\tremaining: 10.5s\n",
      "260:\tlearn: 19163.4733446\ttest: 34671.4936193\tbest: 34671.4936193 (260)\ttotal: 11.4s\tremaining: 10.4s\n",
      "261:\tlearn: 19163.0630059\ttest: 34671.7807799\tbest: 34671.4936193 (260)\ttotal: 11.4s\tremaining: 10.4s\n",
      "262:\tlearn: 19151.9592174\ttest: 34648.1340286\tbest: 34648.1340286 (262)\ttotal: 11.5s\tremaining: 10.3s\n",
      "263:\tlearn: 19151.9443259\ttest: 34647.8932538\tbest: 34647.8932538 (263)\ttotal: 11.5s\tremaining: 10.3s\n",
      "264:\tlearn: 19070.6946002\ttest: 34593.6443338\tbest: 34593.6443338 (264)\ttotal: 11.6s\tremaining: 10.3s\n",
      "265:\tlearn: 19070.6861635\ttest: 34593.4432231\tbest: 34593.4432231 (265)\ttotal: 11.6s\tremaining: 10.2s\n",
      "266:\tlearn: 19068.9564000\ttest: 34597.2570105\tbest: 34593.4432231 (265)\ttotal: 11.6s\tremaining: 10.2s\n",
      "267:\tlearn: 19044.5055548\ttest: 34580.1962072\tbest: 34580.1962072 (267)\ttotal: 11.7s\tremaining: 10.1s\n",
      "268:\tlearn: 19043.3490467\ttest: 34580.1374289\tbest: 34580.1374289 (268)\ttotal: 11.8s\tremaining: 10.1s\n",
      "269:\tlearn: 19038.2223042\ttest: 34596.5618933\tbest: 34580.1374289 (268)\ttotal: 11.8s\tremaining: 10s\n",
      "270:\tlearn: 19006.7482738\ttest: 34588.2442884\tbest: 34580.1374289 (268)\ttotal: 11.8s\tremaining: 10s\n",
      "271:\tlearn: 19003.9708174\ttest: 34592.1612702\tbest: 34580.1374289 (268)\ttotal: 11.9s\tremaining: 9.96s\n",
      "272:\tlearn: 19002.8038804\ttest: 34597.9411656\tbest: 34580.1374289 (268)\ttotal: 11.9s\tremaining: 9.93s\n",
      "273:\tlearn: 18973.6170751\ttest: 34597.6324190\tbest: 34580.1374289 (268)\ttotal: 12s\tremaining: 9.88s\n",
      "274:\tlearn: 18950.2533545\ttest: 34599.4361083\tbest: 34580.1374289 (268)\ttotal: 12s\tremaining: 9.84s\n",
      "275:\tlearn: 18949.7530631\ttest: 34595.8775962\tbest: 34580.1374289 (268)\ttotal: 12.1s\tremaining: 9.8s\n",
      "276:\tlearn: 18948.4713692\ttest: 34589.7058097\tbest: 34580.1374289 (268)\ttotal: 12.1s\tremaining: 9.76s\n",
      "277:\tlearn: 18900.4437236\ttest: 34563.0017179\tbest: 34563.0017179 (277)\ttotal: 12.2s\tremaining: 9.71s\n",
      "278:\tlearn: 18899.5990959\ttest: 34557.1589914\tbest: 34557.1589914 (278)\ttotal: 12.2s\tremaining: 9.67s\n",
      "279:\tlearn: 18840.5403405\ttest: 34566.9965216\tbest: 34557.1589914 (278)\ttotal: 12.3s\tremaining: 9.63s\n",
      "280:\tlearn: 18840.1726303\ttest: 34569.9921746\tbest: 34557.1589914 (278)\ttotal: 12.3s\tremaining: 9.59s\n",
      "281:\tlearn: 18839.1977382\ttest: 34570.1300028\tbest: 34557.1589914 (278)\ttotal: 12.3s\tremaining: 9.54s\n",
      "282:\tlearn: 18839.1685645\ttest: 34570.1365006\tbest: 34557.1589914 (278)\ttotal: 12.4s\tremaining: 9.5s\n",
      "283:\tlearn: 18839.0249359\ttest: 34569.5823814\tbest: 34557.1589914 (278)\ttotal: 12.4s\tremaining: 9.46s\n",
      "284:\tlearn: 18837.2760060\ttest: 34573.9527205\tbest: 34557.1589914 (278)\ttotal: 12.5s\tremaining: 9.43s\n",
      "285:\tlearn: 18820.0711348\ttest: 34576.8349854\tbest: 34557.1589914 (278)\ttotal: 12.5s\tremaining: 9.38s\n",
      "286:\tlearn: 18819.9165592\ttest: 34576.2785064\tbest: 34557.1589914 (278)\ttotal: 12.6s\tremaining: 9.34s\n",
      "287:\tlearn: 18819.0981894\ttest: 34576.3996258\tbest: 34557.1589914 (278)\ttotal: 12.6s\tremaining: 9.3s\n",
      "288:\tlearn: 18806.1217322\ttest: 34569.3838860\tbest: 34557.1589914 (278)\ttotal: 12.7s\tremaining: 9.26s\n",
      "289:\tlearn: 18805.3437749\ttest: 34569.5086125\tbest: 34557.1589914 (278)\ttotal: 12.7s\tremaining: 9.21s\n",
      "290:\tlearn: 18791.1816372\ttest: 34574.4672054\tbest: 34557.1589914 (278)\ttotal: 12.8s\tremaining: 9.17s\n",
      "291:\tlearn: 18789.3071961\ttest: 34572.3675366\tbest: 34557.1589914 (278)\ttotal: 12.8s\tremaining: 9.13s\n",
      "292:\tlearn: 18788.6380401\ttest: 34572.4808949\tbest: 34557.1589914 (278)\ttotal: 12.9s\tremaining: 9.09s\n",
      "293:\tlearn: 18745.9782275\ttest: 34523.9339668\tbest: 34523.9339668 (293)\ttotal: 12.9s\tremaining: 9.04s\n",
      "294:\tlearn: 18674.3866666\ttest: 34466.3887136\tbest: 34466.3887136 (294)\ttotal: 13s\tremaining: 9s\n",
      "295:\tlearn: 18627.7087563\ttest: 34456.1636375\tbest: 34456.1636375 (295)\ttotal: 13s\tremaining: 8.96s\n",
      "296:\tlearn: 18625.7528465\ttest: 34452.7789080\tbest: 34452.7789080 (296)\ttotal: 13.1s\tremaining: 8.92s\n",
      "297:\tlearn: 18542.0084970\ttest: 34468.1946965\tbest: 34452.7789080 (296)\ttotal: 13.1s\tremaining: 8.88s\n",
      "298:\tlearn: 18541.3418990\ttest: 34472.5757673\tbest: 34452.7789080 (296)\ttotal: 13.1s\tremaining: 8.84s\n",
      "299:\tlearn: 18534.6040466\ttest: 34457.7656244\tbest: 34452.7789080 (296)\ttotal: 13.2s\tremaining: 8.79s\n",
      "300:\tlearn: 18533.9020679\ttest: 34457.2683522\tbest: 34452.7789080 (296)\ttotal: 13.2s\tremaining: 8.76s\n",
      "301:\tlearn: 18533.4282244\ttest: 34457.3303934\tbest: 34452.7789080 (296)\ttotal: 13.3s\tremaining: 8.71s\n",
      "302:\tlearn: 18527.1217648\ttest: 34458.3579918\tbest: 34452.7789080 (296)\ttotal: 13.3s\tremaining: 8.66s\n",
      "303:\tlearn: 18525.9685830\ttest: 34453.2912213\tbest: 34452.7789080 (296)\ttotal: 13.4s\tremaining: 8.63s\n",
      "304:\tlearn: 18485.9721760\ttest: 34471.1704024\tbest: 34452.7789080 (296)\ttotal: 13.4s\tremaining: 8.59s\n",
      "305:\tlearn: 18485.8266049\ttest: 34474.0153127\tbest: 34452.7789080 (296)\ttotal: 13.5s\tremaining: 8.54s\n",
      "306:\tlearn: 18477.0918746\ttest: 34455.3014690\tbest: 34452.7789080 (296)\ttotal: 13.5s\tremaining: 8.5s\n",
      "307:\tlearn: 18473.5007230\ttest: 34447.8702107\tbest: 34447.8702107 (307)\ttotal: 13.6s\tremaining: 8.46s\n",
      "308:\tlearn: 18473.0591272\ttest: 34447.9042428\tbest: 34447.8702107 (307)\ttotal: 13.6s\tremaining: 8.42s\n",
      "309:\tlearn: 18464.2557252\ttest: 34470.2378120\tbest: 34447.8702107 (307)\ttotal: 13.7s\tremaining: 8.37s\n",
      "310:\tlearn: 18462.9736209\ttest: 34482.9426147\tbest: 34447.8702107 (307)\ttotal: 13.7s\tremaining: 8.33s\n",
      "311:\tlearn: 18462.1016514\ttest: 34482.6492340\tbest: 34447.8702107 (307)\ttotal: 13.8s\tremaining: 8.29s\n",
      "312:\tlearn: 18460.9143606\ttest: 34491.8220823\tbest: 34447.8702107 (307)\ttotal: 13.8s\tremaining: 8.26s\n",
      "313:\tlearn: 18457.4087725\ttest: 34491.2031668\tbest: 34447.8702107 (307)\ttotal: 13.9s\tremaining: 8.21s\n",
      "314:\tlearn: 18418.7712208\ttest: 34484.8247321\tbest: 34447.8702107 (307)\ttotal: 13.9s\tremaining: 8.17s\n",
      "315:\tlearn: 18418.2764846\ttest: 34484.9877934\tbest: 34447.8702107 (307)\ttotal: 14s\tremaining: 8.13s\n",
      "316:\tlearn: 18417.2436024\ttest: 34484.4334871\tbest: 34447.8702107 (307)\ttotal: 14s\tremaining: 8.08s\n",
      "317:\tlearn: 18417.1541794\ttest: 34484.5231976\tbest: 34447.8702107 (307)\ttotal: 14s\tremaining: 8.04s\n",
      "318:\tlearn: 18412.6869333\ttest: 34478.8596575\tbest: 34447.8702107 (307)\ttotal: 14.1s\tremaining: 8s\n",
      "319:\tlearn: 18375.6246551\ttest: 34448.9162504\tbest: 34447.8702107 (307)\ttotal: 14.1s\tremaining: 7.96s\n",
      "320:\tlearn: 18369.6591428\ttest: 34430.1912536\tbest: 34430.1912536 (320)\ttotal: 14.2s\tremaining: 7.91s\n",
      "321:\tlearn: 18369.1395473\ttest: 34430.6867116\tbest: 34430.1912536 (320)\ttotal: 14.2s\tremaining: 7.87s\n",
      "322:\tlearn: 18368.4820017\ttest: 34431.3987307\tbest: 34430.1912536 (320)\ttotal: 14.3s\tremaining: 7.83s\n",
      "323:\tlearn: 18367.4312307\ttest: 34430.8927675\tbest: 34430.1912536 (320)\ttotal: 14.3s\tremaining: 7.78s\n",
      "324:\tlearn: 18361.5026870\ttest: 34418.1254123\tbest: 34418.1254123 (324)\ttotal: 14.4s\tremaining: 7.74s\n",
      "325:\tlearn: 18350.2764972\ttest: 34413.2436164\tbest: 34413.2436164 (325)\ttotal: 14.4s\tremaining: 7.7s\n",
      "326:\tlearn: 18349.3484629\ttest: 34408.5673377\tbest: 34408.5673377 (326)\ttotal: 14.5s\tremaining: 7.65s\n",
      "327:\tlearn: 18325.4992123\ttest: 34393.3166417\tbest: 34393.3166417 (327)\ttotal: 14.5s\tremaining: 7.61s\n",
      "328:\tlearn: 18325.2393564\ttest: 34393.2135551\tbest: 34393.2135551 (328)\ttotal: 14.6s\tremaining: 7.57s\n",
      "329:\tlearn: 18324.8370090\ttest: 34393.2719146\tbest: 34393.2135551 (328)\ttotal: 14.6s\tremaining: 7.53s\n",
      "330:\tlearn: 18311.7509208\ttest: 34394.0951414\tbest: 34393.2135551 (328)\ttotal: 14.7s\tremaining: 7.48s\n"
     ]
    },
    {
     "name": "stdout",
     "output_type": "stream",
     "text": [
      "331:\tlearn: 18310.4043218\ttest: 34393.3162278\tbest: 34393.2135551 (328)\ttotal: 14.7s\tremaining: 7.44s\n",
      "332:\tlearn: 18302.6037361\ttest: 34378.4033291\tbest: 34378.4033291 (332)\ttotal: 14.8s\tremaining: 7.4s\n",
      "333:\tlearn: 18287.7887776\ttest: 34373.4400723\tbest: 34373.4400723 (333)\ttotal: 14.8s\tremaining: 7.36s\n",
      "334:\tlearn: 18287.2926465\ttest: 34373.9435825\tbest: 34373.4400723 (333)\ttotal: 14.9s\tremaining: 7.31s\n",
      "335:\tlearn: 18287.0637127\ttest: 34375.9297966\tbest: 34373.4400723 (333)\ttotal: 14.9s\tremaining: 7.27s\n",
      "336:\tlearn: 18286.8618110\ttest: 34375.8702790\tbest: 34373.4400723 (333)\ttotal: 15s\tremaining: 7.23s\n",
      "337:\tlearn: 18273.8757825\ttest: 34340.6606440\tbest: 34340.6606440 (337)\ttotal: 15s\tremaining: 7.19s\n",
      "338:\tlearn: 18273.0576615\ttest: 34336.3524270\tbest: 34336.3524270 (338)\ttotal: 15s\tremaining: 7.14s\n",
      "339:\tlearn: 18268.1866599\ttest: 34325.1115113\tbest: 34325.1115113 (339)\ttotal: 15.1s\tremaining: 7.1s\n",
      "340:\tlearn: 18267.3389293\ttest: 34323.9997388\tbest: 34323.9997388 (340)\ttotal: 15.1s\tremaining: 7.06s\n",
      "341:\tlearn: 18267.2552887\ttest: 34323.8608434\tbest: 34323.8608434 (341)\ttotal: 15.2s\tremaining: 7.01s\n",
      "342:\tlearn: 18254.3278064\ttest: 34312.9475164\tbest: 34312.9475164 (342)\ttotal: 15.2s\tremaining: 6.97s\n",
      "343:\tlearn: 18213.2372471\ttest: 34304.8904646\tbest: 34304.8904646 (343)\ttotal: 15.3s\tremaining: 6.93s\n",
      "344:\tlearn: 18211.1887010\ttest: 34288.4362001\tbest: 34288.4362001 (344)\ttotal: 15.3s\tremaining: 6.89s\n",
      "345:\tlearn: 18210.4774494\ttest: 34287.4626364\tbest: 34287.4626364 (345)\ttotal: 15.4s\tremaining: 6.84s\n",
      "346:\tlearn: 18209.5924580\ttest: 34284.1408304\tbest: 34284.1408304 (346)\ttotal: 15.4s\tremaining: 6.8s\n",
      "347:\tlearn: 18180.0893813\ttest: 34285.4096168\tbest: 34284.1408304 (346)\ttotal: 15.5s\tremaining: 6.76s\n",
      "348:\tlearn: 18177.9893446\ttest: 34279.0899059\tbest: 34279.0899059 (348)\ttotal: 15.5s\tremaining: 6.71s\n",
      "349:\tlearn: 18171.7496773\ttest: 34273.7080423\tbest: 34273.7080423 (349)\ttotal: 15.6s\tremaining: 6.67s\n",
      "350:\tlearn: 18159.8338588\ttest: 34243.0791349\tbest: 34243.0791349 (350)\ttotal: 15.6s\tremaining: 6.62s\n",
      "351:\tlearn: 18144.1830029\ttest: 34232.9162911\tbest: 34232.9162911 (351)\ttotal: 15.7s\tremaining: 6.58s\n",
      "352:\tlearn: 18089.5838461\ttest: 34201.9712098\tbest: 34201.9712098 (352)\ttotal: 15.7s\tremaining: 6.54s\n",
      "353:\tlearn: 18086.5315062\ttest: 34203.4405299\tbest: 34201.9712098 (352)\ttotal: 15.7s\tremaining: 6.5s\n",
      "354:\tlearn: 18061.8198879\ttest: 34272.2150156\tbest: 34201.9712098 (352)\ttotal: 15.8s\tremaining: 6.45s\n",
      "355:\tlearn: 18049.1609885\ttest: 34271.5987311\tbest: 34201.9712098 (352)\ttotal: 15.8s\tremaining: 6.41s\n",
      "356:\tlearn: 18046.8570636\ttest: 34256.0543697\tbest: 34201.9712098 (352)\ttotal: 15.9s\tremaining: 6.37s\n",
      "357:\tlearn: 18036.1618458\ttest: 34253.4906036\tbest: 34201.9712098 (352)\ttotal: 15.9s\tremaining: 6.32s\n",
      "358:\tlearn: 18030.6269058\ttest: 34242.0861709\tbest: 34201.9712098 (352)\ttotal: 16s\tremaining: 6.28s\n",
      "359:\tlearn: 18029.3834461\ttest: 34233.3840867\tbest: 34201.9712098 (352)\ttotal: 16s\tremaining: 6.24s\n",
      "360:\tlearn: 18028.8420183\ttest: 34233.3638660\tbest: 34201.9712098 (352)\ttotal: 16.1s\tremaining: 6.19s\n",
      "361:\tlearn: 18025.7136441\ttest: 34228.7433703\tbest: 34201.9712098 (352)\ttotal: 16.1s\tremaining: 6.14s\n",
      "362:\tlearn: 18012.8289997\ttest: 34233.9423346\tbest: 34201.9712098 (352)\ttotal: 16.2s\tremaining: 6.1s\n",
      "363:\tlearn: 18012.6363247\ttest: 34233.8222106\tbest: 34201.9712098 (352)\ttotal: 16.2s\tremaining: 6.06s\n",
      "364:\tlearn: 18010.7511875\ttest: 34238.3940539\tbest: 34201.9712098 (352)\ttotal: 16.3s\tremaining: 6.01s\n",
      "365:\tlearn: 18007.7205787\ttest: 34221.1378118\tbest: 34201.9712098 (352)\ttotal: 16.3s\tremaining: 5.97s\n",
      "366:\tlearn: 17980.4410463\ttest: 34212.0438628\tbest: 34201.9712098 (352)\ttotal: 16.3s\tremaining: 5.92s\n",
      "367:\tlearn: 17976.3319371\ttest: 34212.7574625\tbest: 34201.9712098 (352)\ttotal: 16.4s\tremaining: 5.88s\n",
      "368:\tlearn: 17975.5398502\ttest: 34216.2586273\tbest: 34201.9712098 (352)\ttotal: 16.4s\tremaining: 5.84s\n",
      "369:\tlearn: 17974.8867054\ttest: 34218.4658963\tbest: 34201.9712098 (352)\ttotal: 16.5s\tremaining: 5.79s\n",
      "370:\tlearn: 17974.4717967\ttest: 34219.6185872\tbest: 34201.9712098 (352)\ttotal: 16.5s\tremaining: 5.75s\n",
      "371:\tlearn: 17974.3272546\ttest: 34219.6228758\tbest: 34201.9712098 (352)\ttotal: 16.6s\tremaining: 5.71s\n",
      "372:\tlearn: 17973.1627709\ttest: 34217.9282762\tbest: 34201.9712098 (352)\ttotal: 16.6s\tremaining: 5.66s\n",
      "373:\tlearn: 17971.8646685\ttest: 34214.1168687\tbest: 34201.9712098 (352)\ttotal: 16.7s\tremaining: 5.62s\n",
      "374:\tlearn: 17969.0820301\ttest: 34212.3562923\tbest: 34201.9712098 (352)\ttotal: 16.7s\tremaining: 5.57s\n",
      "375:\tlearn: 17952.0233672\ttest: 34210.7564364\tbest: 34201.9712098 (352)\ttotal: 16.8s\tremaining: 5.53s\n",
      "376:\tlearn: 17946.3079344\ttest: 34214.9366568\tbest: 34201.9712098 (352)\ttotal: 16.8s\tremaining: 5.49s\n",
      "377:\tlearn: 17941.2861108\ttest: 34214.5927515\tbest: 34201.9712098 (352)\ttotal: 16.9s\tremaining: 5.44s\n",
      "378:\tlearn: 17922.4830056\ttest: 34164.7604497\tbest: 34164.7604497 (378)\ttotal: 16.9s\tremaining: 5.4s\n",
      "379:\tlearn: 17921.1164206\ttest: 34175.3501584\tbest: 34164.7604497 (378)\ttotal: 17s\tremaining: 5.35s\n",
      "380:\tlearn: 17917.3248550\ttest: 34184.5843179\tbest: 34164.7604497 (378)\ttotal: 17s\tremaining: 5.31s\n",
      "381:\tlearn: 17915.1923972\ttest: 34196.8541684\tbest: 34164.7604497 (378)\ttotal: 17.1s\tremaining: 5.27s\n",
      "382:\tlearn: 17912.7646499\ttest: 34184.7054764\tbest: 34164.7604497 (378)\ttotal: 17.1s\tremaining: 5.22s\n",
      "383:\tlearn: 17911.0507810\ttest: 34193.9202828\tbest: 34164.7604497 (378)\ttotal: 17.1s\tremaining: 5.18s\n",
      "384:\tlearn: 17905.5010130\ttest: 34190.8822065\tbest: 34164.7604497 (378)\ttotal: 17.2s\tremaining: 5.14s\n",
      "385:\tlearn: 17874.7749607\ttest: 34187.2262956\tbest: 34164.7604497 (378)\ttotal: 17.2s\tremaining: 5.09s\n",
      "386:\tlearn: 17874.5002055\ttest: 34188.8812313\tbest: 34164.7604497 (378)\ttotal: 17.3s\tremaining: 5.04s\n",
      "387:\tlearn: 17871.3344960\ttest: 34191.3185017\tbest: 34164.7604497 (378)\ttotal: 17.3s\tremaining: 5s\n",
      "388:\tlearn: 17866.9894923\ttest: 34187.5936800\tbest: 34164.7604497 (378)\ttotal: 17.4s\tremaining: 4.96s\n",
      "389:\tlearn: 17863.4355923\ttest: 34185.0495939\tbest: 34164.7604497 (378)\ttotal: 17.4s\tremaining: 4.91s\n",
      "390:\tlearn: 17858.6379924\ttest: 34191.3255824\tbest: 34164.7604497 (378)\ttotal: 17.5s\tremaining: 4.87s\n",
      "391:\tlearn: 17857.7119201\ttest: 34186.5247647\tbest: 34164.7604497 (378)\ttotal: 17.5s\tremaining: 4.83s\n",
      "392:\tlearn: 17840.4969312\ttest: 34188.0039099\tbest: 34164.7604497 (378)\ttotal: 17.6s\tremaining: 4.78s\n",
      "393:\tlearn: 17837.1012549\ttest: 34177.1776565\tbest: 34164.7604497 (378)\ttotal: 17.6s\tremaining: 4.74s\n",
      "394:\tlearn: 17833.1593037\ttest: 34178.7142646\tbest: 34164.7604497 (378)\ttotal: 17.7s\tremaining: 4.69s\n",
      "395:\tlearn: 17821.7323184\ttest: 34158.9763201\tbest: 34158.9763201 (395)\ttotal: 17.7s\tremaining: 4.65s\n",
      "396:\tlearn: 17821.0889401\ttest: 34155.2989019\tbest: 34155.2989019 (396)\ttotal: 17.8s\tremaining: 4.61s\n",
      "397:\tlearn: 17820.6277703\ttest: 34158.6635669\tbest: 34155.2989019 (396)\ttotal: 17.8s\tremaining: 4.56s\n",
      "398:\tlearn: 17811.8824164\ttest: 34157.2913418\tbest: 34155.2989019 (396)\ttotal: 17.8s\tremaining: 4.52s\n",
      "399:\tlearn: 17811.8350014\ttest: 34156.9190303\tbest: 34155.2989019 (396)\ttotal: 17.9s\tremaining: 4.47s\n",
      "400:\tlearn: 17811.7275403\ttest: 34156.9574567\tbest: 34155.2989019 (396)\ttotal: 17.9s\tremaining: 4.43s\n",
      "401:\tlearn: 17811.2179947\ttest: 34156.9548712\tbest: 34155.2989019 (396)\ttotal: 18s\tremaining: 4.38s\n",
      "402:\tlearn: 17788.0040349\ttest: 34162.1174749\tbest: 34155.2989019 (396)\ttotal: 18s\tremaining: 4.34s\n",
      "403:\tlearn: 17778.1471033\ttest: 34164.9701899\tbest: 34155.2989019 (396)\ttotal: 18.1s\tremaining: 4.3s\n",
      "404:\tlearn: 17777.7193702\ttest: 34168.3126459\tbest: 34155.2989019 (396)\ttotal: 18.1s\tremaining: 4.25s\n",
      "405:\tlearn: 17776.5603040\ttest: 34168.3119988\tbest: 34155.2989019 (396)\ttotal: 18.2s\tremaining: 4.21s\n",
      "406:\tlearn: 17776.1567942\ttest: 34168.4538323\tbest: 34155.2989019 (396)\ttotal: 18.2s\tremaining: 4.16s\n",
      "407:\tlearn: 17762.8400045\ttest: 34147.3339436\tbest: 34147.3339436 (407)\ttotal: 18.3s\tremaining: 4.12s\n",
      "408:\tlearn: 17760.6691767\ttest: 34144.4692794\tbest: 34144.4692794 (408)\ttotal: 18.3s\tremaining: 4.08s\n",
      "409:\tlearn: 17754.8209105\ttest: 34153.2233676\tbest: 34144.4692794 (408)\ttotal: 18.4s\tremaining: 4.03s\n",
      "410:\tlearn: 17720.9760004\ttest: 34133.3721404\tbest: 34133.3721404 (410)\ttotal: 18.4s\tremaining: 3.99s\n",
      "411:\tlearn: 17714.5263526\ttest: 34137.5467488\tbest: 34133.3721404 (410)\ttotal: 18.5s\tremaining: 3.94s\n",
      "412:\tlearn: 17714.5169779\ttest: 34138.3762225\tbest: 34133.3721404 (410)\ttotal: 18.5s\tremaining: 3.9s\n",
      "413:\tlearn: 17696.8987345\ttest: 34135.5708125\tbest: 34133.3721404 (410)\ttotal: 18.6s\tremaining: 3.85s\n",
      "414:\tlearn: 17692.2129641\ttest: 34149.1884701\tbest: 34133.3721404 (410)\ttotal: 18.6s\tremaining: 3.81s\n"
     ]
    },
    {
     "name": "stdout",
     "output_type": "stream",
     "text": [
      "415:\tlearn: 17686.2298142\ttest: 34135.1901679\tbest: 34133.3721404 (410)\ttotal: 18.6s\tremaining: 3.76s\n",
      "416:\tlearn: 17679.4982505\ttest: 34141.0014606\tbest: 34133.3721404 (410)\ttotal: 18.7s\tremaining: 3.72s\n",
      "417:\tlearn: 17641.6885184\ttest: 34152.1574578\tbest: 34133.3721404 (410)\ttotal: 18.7s\tremaining: 3.68s\n",
      "418:\tlearn: 17625.2459184\ttest: 34132.6557476\tbest: 34132.6557476 (418)\ttotal: 18.8s\tremaining: 3.63s\n",
      "419:\tlearn: 17622.3687949\ttest: 34132.5728391\tbest: 34132.5728391 (419)\ttotal: 18.8s\tremaining: 3.59s\n",
      "420:\tlearn: 17560.0356265\ttest: 34172.9542676\tbest: 34132.5728391 (419)\ttotal: 18.9s\tremaining: 3.54s\n",
      "421:\tlearn: 17540.7879803\ttest: 34166.6612216\tbest: 34132.5728391 (419)\ttotal: 18.9s\tremaining: 3.5s\n",
      "422:\tlearn: 17538.6160099\ttest: 34175.5269641\tbest: 34132.5728391 (419)\ttotal: 19s\tremaining: 3.45s\n",
      "423:\tlearn: 17537.0871634\ttest: 34182.7321946\tbest: 34132.5728391 (419)\ttotal: 19s\tremaining: 3.41s\n",
      "424:\tlearn: 17536.3179511\ttest: 34180.8626930\tbest: 34132.5728391 (419)\ttotal: 19.1s\tremaining: 3.37s\n",
      "425:\tlearn: 17536.1573763\ttest: 34179.4966166\tbest: 34132.5728391 (419)\ttotal: 19.1s\tremaining: 3.32s\n",
      "426:\tlearn: 17532.3467845\ttest: 34171.5864724\tbest: 34132.5728391 (419)\ttotal: 19.2s\tremaining: 3.28s\n",
      "427:\tlearn: 17531.1244539\ttest: 34177.8664391\tbest: 34132.5728391 (419)\ttotal: 19.2s\tremaining: 3.23s\n",
      "428:\tlearn: 17529.1724534\ttest: 34177.8247069\tbest: 34132.5728391 (419)\ttotal: 19.3s\tremaining: 3.19s\n",
      "429:\tlearn: 17524.1097635\ttest: 34176.1461972\tbest: 34132.5728391 (419)\ttotal: 19.3s\tremaining: 3.14s\n",
      "430:\tlearn: 17509.6271951\ttest: 34179.9978955\tbest: 34132.5728391 (419)\ttotal: 19.4s\tremaining: 3.1s\n",
      "431:\tlearn: 17482.6031911\ttest: 34214.4984249\tbest: 34132.5728391 (419)\ttotal: 19.4s\tremaining: 3.05s\n",
      "432:\tlearn: 17451.2045781\ttest: 34231.7567950\tbest: 34132.5728391 (419)\ttotal: 19.4s\tremaining: 3.01s\n",
      "433:\tlearn: 17437.6628742\ttest: 34235.4869564\tbest: 34132.5728391 (419)\ttotal: 19.5s\tremaining: 2.96s\n",
      "434:\tlearn: 17432.3080910\ttest: 34230.3994863\tbest: 34132.5728391 (419)\ttotal: 19.5s\tremaining: 2.92s\n",
      "435:\tlearn: 17419.4775341\ttest: 34215.9076171\tbest: 34132.5728391 (419)\ttotal: 19.6s\tremaining: 2.87s\n",
      "436:\tlearn: 17381.4836137\ttest: 34202.2076117\tbest: 34132.5728391 (419)\ttotal: 19.6s\tremaining: 2.83s\n",
      "437:\tlearn: 17379.9855136\ttest: 34211.1433451\tbest: 34132.5728391 (419)\ttotal: 19.7s\tremaining: 2.79s\n",
      "438:\tlearn: 17377.0088960\ttest: 34206.9055266\tbest: 34132.5728391 (419)\ttotal: 19.7s\tremaining: 2.74s\n",
      "439:\tlearn: 17374.5859094\ttest: 34214.1827091\tbest: 34132.5728391 (419)\ttotal: 19.8s\tremaining: 2.69s\n",
      "440:\tlearn: 17345.5880865\ttest: 34195.3727764\tbest: 34132.5728391 (419)\ttotal: 19.8s\tremaining: 2.65s\n",
      "441:\tlearn: 17345.5320628\ttest: 34195.3540450\tbest: 34132.5728391 (419)\ttotal: 19.9s\tremaining: 2.61s\n",
      "442:\tlearn: 17326.9655055\ttest: 34195.4504875\tbest: 34132.5728391 (419)\ttotal: 19.9s\tremaining: 2.56s\n",
      "443:\tlearn: 17325.8879755\ttest: 34194.7562632\tbest: 34132.5728391 (419)\ttotal: 20s\tremaining: 2.52s\n",
      "444:\tlearn: 17324.1991084\ttest: 34198.1456589\tbest: 34132.5728391 (419)\ttotal: 20s\tremaining: 2.47s\n",
      "445:\tlearn: 17318.5034053\ttest: 34160.1156159\tbest: 34132.5728391 (419)\ttotal: 20.1s\tremaining: 2.43s\n",
      "446:\tlearn: 17317.9569752\ttest: 34160.3149559\tbest: 34132.5728391 (419)\ttotal: 20.1s\tremaining: 2.38s\n",
      "447:\tlearn: 17316.5458219\ttest: 34161.9372073\tbest: 34132.5728391 (419)\ttotal: 20.1s\tremaining: 2.34s\n",
      "448:\tlearn: 17311.7357158\ttest: 34162.9922529\tbest: 34132.5728391 (419)\ttotal: 20.2s\tremaining: 2.29s\n",
      "449:\tlearn: 17309.1436884\ttest: 34148.6971800\tbest: 34132.5728391 (419)\ttotal: 20.2s\tremaining: 2.25s\n",
      "450:\tlearn: 17307.6503201\ttest: 34186.3818724\tbest: 34132.5728391 (419)\ttotal: 20.3s\tremaining: 2.2s\n",
      "451:\tlearn: 17307.3616218\ttest: 34183.5448607\tbest: 34132.5728391 (419)\ttotal: 20.3s\tremaining: 2.16s\n",
      "452:\tlearn: 17307.1300890\ttest: 34188.6010439\tbest: 34132.5728391 (419)\ttotal: 20.4s\tremaining: 2.11s\n",
      "453:\tlearn: 17297.0877164\ttest: 34181.2760281\tbest: 34132.5728391 (419)\ttotal: 20.4s\tremaining: 2.07s\n",
      "454:\tlearn: 17293.8121120\ttest: 34179.9764429\tbest: 34132.5728391 (419)\ttotal: 20.5s\tremaining: 2.02s\n",
      "455:\tlearn: 17292.3955459\ttest: 34188.0473556\tbest: 34132.5728391 (419)\ttotal: 20.5s\tremaining: 1.98s\n",
      "456:\tlearn: 17240.9395680\ttest: 34206.0360302\tbest: 34132.5728391 (419)\ttotal: 20.6s\tremaining: 1.94s\n",
      "457:\tlearn: 17239.2747176\ttest: 34203.2429377\tbest: 34132.5728391 (419)\ttotal: 20.6s\tremaining: 1.89s\n",
      "458:\tlearn: 17235.0839839\ttest: 34201.7395940\tbest: 34132.5728391 (419)\ttotal: 20.7s\tremaining: 1.85s\n",
      "459:\tlearn: 17234.4641861\ttest: 34193.2845440\tbest: 34132.5728391 (419)\ttotal: 20.7s\tremaining: 1.8s\n",
      "460:\tlearn: 17218.7292575\ttest: 34187.8657856\tbest: 34132.5728391 (419)\ttotal: 20.8s\tremaining: 1.76s\n",
      "461:\tlearn: 17200.2562614\ttest: 34186.4182228\tbest: 34132.5728391 (419)\ttotal: 20.8s\tremaining: 1.71s\n",
      "462:\tlearn: 17198.2793773\ttest: 34191.3375480\tbest: 34132.5728391 (419)\ttotal: 20.9s\tremaining: 1.67s\n",
      "463:\tlearn: 17197.5700812\ttest: 34190.6430812\tbest: 34132.5728391 (419)\ttotal: 20.9s\tremaining: 1.62s\n",
      "464:\tlearn: 17197.0990705\ttest: 34190.2195188\tbest: 34132.5728391 (419)\ttotal: 20.9s\tremaining: 1.58s\n",
      "465:\tlearn: 17196.9724147\ttest: 34190.0485308\tbest: 34132.5728391 (419)\ttotal: 21s\tremaining: 1.53s\n",
      "466:\tlearn: 17193.1583743\ttest: 34189.3064784\tbest: 34132.5728391 (419)\ttotal: 21s\tremaining: 1.49s\n",
      "467:\tlearn: 17186.4187633\ttest: 34192.8124936\tbest: 34132.5728391 (419)\ttotal: 21.1s\tremaining: 1.44s\n",
      "468:\tlearn: 17185.1740838\ttest: 34193.7911318\tbest: 34132.5728391 (419)\ttotal: 21.1s\tremaining: 1.4s\n",
      "469:\tlearn: 17185.0035054\ttest: 34191.2567947\tbest: 34132.5728391 (419)\ttotal: 21.2s\tremaining: 1.35s\n",
      "470:\tlearn: 17183.7279647\ttest: 34193.0593610\tbest: 34132.5728391 (419)\ttotal: 21.2s\tremaining: 1.31s\n",
      "471:\tlearn: 17178.9309811\ttest: 34185.1983078\tbest: 34132.5728391 (419)\ttotal: 21.3s\tremaining: 1.26s\n",
      "472:\tlearn: 17175.1718093\ttest: 34183.7995029\tbest: 34132.5728391 (419)\ttotal: 21.3s\tremaining: 1.22s\n",
      "473:\tlearn: 17173.6929131\ttest: 34177.5528479\tbest: 34132.5728391 (419)\ttotal: 21.4s\tremaining: 1.17s\n",
      "474:\tlearn: 17172.9665999\ttest: 34177.5590596\tbest: 34132.5728391 (419)\ttotal: 21.4s\tremaining: 1.13s\n",
      "475:\tlearn: 17172.1762318\ttest: 34183.9661062\tbest: 34132.5728391 (419)\ttotal: 21.4s\tremaining: 1.08s\n",
      "476:\tlearn: 17168.8803440\ttest: 34191.7219130\tbest: 34132.5728391 (419)\ttotal: 21.5s\tremaining: 1.04s\n",
      "477:\tlearn: 17168.4074891\ttest: 34191.1715723\tbest: 34132.5728391 (419)\ttotal: 21.6s\tremaining: 992ms\n",
      "478:\tlearn: 17167.3887475\ttest: 34192.4668768\tbest: 34132.5728391 (419)\ttotal: 21.6s\tremaining: 947ms\n",
      "479:\tlearn: 17166.4700340\ttest: 34192.7550806\tbest: 34132.5728391 (419)\ttotal: 21.6s\tremaining: 902ms\n",
      "480:\tlearn: 17165.8109466\ttest: 34193.0717037\tbest: 34132.5728391 (419)\ttotal: 21.7s\tremaining: 857ms\n",
      "481:\tlearn: 17160.7899279\ttest: 34182.8788000\tbest: 34132.5728391 (419)\ttotal: 21.8s\tremaining: 812ms\n",
      "482:\tlearn: 17138.3404260\ttest: 34154.9314293\tbest: 34132.5728391 (419)\ttotal: 21.8s\tremaining: 767ms\n",
      "483:\tlearn: 17137.3780619\ttest: 34156.8039633\tbest: 34132.5728391 (419)\ttotal: 21.9s\tremaining: 722ms\n",
      "484:\tlearn: 17137.1653678\ttest: 34154.8132164\tbest: 34132.5728391 (419)\ttotal: 21.9s\tremaining: 678ms\n",
      "485:\tlearn: 17135.6418778\ttest: 34155.8953048\tbest: 34132.5728391 (419)\ttotal: 22s\tremaining: 632ms\n",
      "486:\tlearn: 17101.2590254\ttest: 34185.1965019\tbest: 34132.5728391 (419)\ttotal: 22s\tremaining: 587ms\n",
      "487:\tlearn: 17097.0769962\ttest: 34178.7663213\tbest: 34132.5728391 (419)\ttotal: 22s\tremaining: 542ms\n",
      "488:\tlearn: 17097.0314752\ttest: 34180.8654609\tbest: 34132.5728391 (419)\ttotal: 22.1s\tremaining: 497ms\n",
      "489:\tlearn: 17088.3362733\ttest: 34164.7839542\tbest: 34132.5728391 (419)\ttotal: 22.1s\tremaining: 452ms\n",
      "490:\tlearn: 17085.9317771\ttest: 34162.7483038\tbest: 34132.5728391 (419)\ttotal: 22.2s\tremaining: 407ms\n",
      "491:\tlearn: 17073.6245178\ttest: 34153.2198222\tbest: 34132.5728391 (419)\ttotal: 22.2s\tremaining: 361ms\n",
      "492:\tlearn: 17071.9159099\ttest: 34153.9325920\tbest: 34132.5728391 (419)\ttotal: 22.3s\tremaining: 316ms\n",
      "493:\tlearn: 17071.6533929\ttest: 34154.2308535\tbest: 34132.5728391 (419)\ttotal: 22.3s\tremaining: 271ms\n",
      "494:\tlearn: 17069.9935588\ttest: 34164.0947464\tbest: 34132.5728391 (419)\ttotal: 22.4s\tremaining: 226ms\n",
      "495:\tlearn: 17042.0267957\ttest: 34171.2680370\tbest: 34132.5728391 (419)\ttotal: 22.4s\tremaining: 181ms\n"
     ]
    },
    {
     "name": "stdout",
     "output_type": "stream",
     "text": [
      "496:\tlearn: 17040.9516805\ttest: 34173.6287276\tbest: 34132.5728391 (419)\ttotal: 22.5s\tremaining: 136ms\n",
      "497:\tlearn: 17033.9956503\ttest: 34165.4095954\tbest: 34132.5728391 (419)\ttotal: 22.5s\tremaining: 90.4ms\n",
      "498:\tlearn: 17032.3816986\ttest: 34166.0366230\tbest: 34132.5728391 (419)\ttotal: 22.6s\tremaining: 45.2ms\n",
      "499:\tlearn: 17032.2109850\ttest: 34166.0103742\tbest: 34132.5728391 (419)\ttotal: 22.6s\tremaining: 0us\n",
      "\n",
      "bestTest = 34132.57284\n",
      "bestIteration = 419\n",
      "\n",
      "Shrink model to first 420 iterations.\n"
     ]
    },
    {
     "data": {
      "text/plain": [
       "<catboost.core.CatBoostRegressor at 0x1eb8db4a860>"
      ]
     },
     "execution_count": 56,
     "metadata": {},
     "output_type": "execute_result"
    }
   ],
   "source": [
    "from catboost import CatBoostRegressor\n",
    "\n",
    "cbm = CatBoostRegressor(iterations=500, depth=3, learning_rate=0.1)\n",
    "cat_dims = [new_train_X.columns.get_loc(i) for i in new_objcols[:-1]] \n",
    "cbm.fit(new_train_X, new_train_y, cat_features=cat_dims, eval_set=(new_test_X, new_test_y))"
   ]
  },
  {
   "cell_type": "code",
   "execution_count": 57,
   "metadata": {},
   "outputs": [],
   "source": [
    "cbm_rmse = cbm.score(new_train_X,new_train_y)"
   ]
  },
  {
   "cell_type": "code",
   "execution_count": 58,
   "metadata": {},
   "outputs": [
    {
     "name": "stdout",
     "output_type": "stream",
     "text": [
      "Lin_RMSE:     20370.67184620163\n",
      "Tree_RMSE:    0.0\n",
      "Forest_RMSE:  10458.585731239991\n",
      "cbm_RMSE:     17875.740207253708\n"
     ]
    }
   ],
   "source": [
    "print('Lin_RMSE:    ', lin_rmse)\n",
    "print('Tree_RMSE:   ', tree_rmse)\n",
    "print('Forest_RMSE: ', rfg_rmse)\n",
    "print('cbm_RMSE:    ', cbm_rmse)"
   ]
  },
  {
   "cell_type": "markdown",
   "metadata": {},
   "source": [
    "Det ser ut som om det er ForestRegressor som ender opp med det beste resultatet"
   ]
  },
  {
   "cell_type": "markdown",
   "metadata": {},
   "source": [
    "## Fine-tune the model"
   ]
  },
  {
   "cell_type": "markdown",
   "metadata": {},
   "source": [
    "Når man nå står igjen med noen få lovende modeller, så trenger man å finjustere disse. Det er flere måte man kan gjøre dette på. GridSearch kunne for eksempel vært en måte. Det man gjør er å endre hyperparameterne for å finne en bra kombinasjon av verdier GridSearch gjør dette ved at man sier hvilke hyperparameter man vil eksprimentere med og hvilke verdier man vil prøve Så den vurderer de ulike kombinasjonene og finner den beste kombinasjonen av hyperparameter verdier"
   ]
  },
  {
   "cell_type": "markdown",
   "metadata": {},
   "source": [
    "RandomizedSearch kan bli brukt på samme måte som GridSearch klassen.\n",
    "Det randomizedSearch gjør er å evaluere et gitt nummer av tilfeldige kombinasjoner ved å velge en tilfeldig verdi for hver av hyperparameterene ved hver iterasjon"
   ]
  },
  {
   "cell_type": "code",
   "execution_count": 59,
   "metadata": {},
   "outputs": [],
   "source": [
    "from sklearn.model_selection import RandomizedSearchCV\n",
    "# Nummer av trær i random forest\n",
    "n_estimators = [int(x) for x in np.linspace(start = 200, stop = 2000, num = 10)]\n",
    "# Nummer av features å ta i betraktning ved hvaer split\n",
    "max_features = ['auto', 'sqrt']\n",
    "# Maksimum nummer av level i tree\n",
    "max_depth = [int(x) for x in np.linspace(10, 110, num = 11)]\n",
    "max_depth.append(None)\n",
    "# Minimum nummer av samples nødvendig til å splitte en node\n",
    "min_samples_split = [2, 5, 10]\n",
    "# Minimum nummer av samples nødvendig på hver leaf node\n",
    "min_samples_leaf = [1, 2, 4]\n",
    "# Metode for å velge samples for training hvert tre\n",
    "bootstrap = [True, False]\n",
    "# Lager random grid\n",
    "random_grid = {'n_estimators': n_estimators,\n",
    "               'max_features': max_features,\n",
    "               'max_depth': max_depth,\n",
    "               'min_samples_split': min_samples_split,\n",
    "               'min_samples_leaf': min_samples_leaf,\n",
    "               'bootstrap': bootstrap}"
   ]
  },
  {
   "cell_type": "code",
   "execution_count": 60,
   "metadata": {},
   "outputs": [
    {
     "name": "stdout",
     "output_type": "stream",
     "text": [
      "Fitting 3 folds for each of 100 candidates, totalling 300 fits\n"
     ]
    },
    {
     "name": "stderr",
     "output_type": "stream",
     "text": [
      "[Parallel(n_jobs=-1)]: Using backend LokyBackend with 4 concurrent workers.\n",
      "[Parallel(n_jobs=-1)]: Done  33 tasks      | elapsed:  1.9min\n",
      "[Parallel(n_jobs=-1)]: Done 154 tasks      | elapsed:  9.2min\n",
      "[Parallel(n_jobs=-1)]: Done 300 out of 300 | elapsed: 31.1min finished\n"
     ]
    },
    {
     "data": {
      "text/plain": [
       "RandomizedSearchCV(cv=3, error_score='raise-deprecating',\n",
       "          estimator=RandomForestRegressor(bootstrap=True, criterion='mse', max_depth=None,\n",
       "           max_features='auto', max_leaf_nodes=None,\n",
       "           min_impurity_decrease=0.0, min_impurity_split=None,\n",
       "           min_samples_leaf=1, min_samples_split=2,\n",
       "           min_weight_fraction_leaf=0.0, n_estimators='warn', n_jobs=None,\n",
       "           oob_score=False, random_state=None, verbose=0, warm_start=False),\n",
       "          fit_params=None, iid='warn', n_iter=100, n_jobs=-1,\n",
       "          param_distributions={'n_estimators': [200, 400, 600, 800, 1000, 1200, 1400, 1600, 1800, 2000], 'max_features': ['auto', 'sqrt'], 'max_depth': [10, 20, 30, 40, 50, 60, 70, 80, 90, 100, 110, None], 'min_samples_split': [2, 5, 10], 'min_samples_leaf': [1, 2, 4], 'bootstrap': [True, False]},\n",
       "          pre_dispatch='2*n_jobs', random_state=42, refit=True,\n",
       "          return_train_score='warn', scoring=None, verbose=2)"
      ]
     },
     "execution_count": 60,
     "metadata": {},
     "output_type": "execute_result"
    }
   ],
   "source": [
    "# Bruker random grid til å søke etter de beste hyperparameterene\n",
    "# Først lager man base model til å tune\n",
    "rf = RandomForestRegressor()\n",
    "# Random search av parametere, bruker 3 fold cross validation, \n",
    "# søker igjennom 100 forskjellige kombinasjoner, og bruker alle tiljengelige kjerner\n",
    "rf_random = RandomizedSearchCV(estimator = rf, param_distributions = random_grid, n_iter = 100, cv = 3, \n",
    "                               verbose=2, random_state=42, n_jobs = -1)\n",
    "# Fit the random search model\n",
    "rf_random.fit(train, y)"
   ]
  },
  {
   "cell_type": "code",
   "execution_count": 61,
   "metadata": {
    "scrolled": true
   },
   "outputs": [
    {
     "data": {
      "text/plain": [
       "{'n_estimators': 400,\n",
       " 'min_samples_split': 2,\n",
       " 'min_samples_leaf': 1,\n",
       " 'max_features': 'sqrt',\n",
       " 'max_depth': None,\n",
       " 'bootstrap': False}"
      ]
     },
     "execution_count": 61,
     "metadata": {},
     "output_type": "execute_result"
    }
   ],
   "source": [
    "rf_random.best_params_"
   ]
  },
  {
   "cell_type": "code",
   "execution_count": 62,
   "metadata": {},
   "outputs": [
    {
     "name": "stdout",
     "output_type": "stream",
     "text": [
      "Model Performance\n",
      "Average Error: 6489.0594 degrees.\n",
      "Accuracy = 96.08%.\n",
      "Model Performance\n",
      "Average Error: 1.7434 degrees.\n",
      "Accuracy = 100.00%.\n",
      "Improvement of 4.08%.\n",
      "Tuned model Score:  0.999999984506091\n",
      "Base model Score:  0.9810109792148256\n"
     ]
    }
   ],
   "source": [
    "def evaluate(model, train, y):\n",
    "    predictions = model.predict(train)\n",
    "    errors = abs(predictions - y)\n",
    "    mape = 100 * np.mean(errors / y)\n",
    "    accuracy = 100 - mape\n",
    "    print('Model Performance')\n",
    "    print('Average Error: {:0.4f} degrees.'.format(np.mean(errors)))\n",
    "    print('Accuracy = {:0.2f}%.'.format(accuracy))\n",
    "    \n",
    "    return accuracy\n",
    "base_model = RandomForestRegressor(n_estimators = 100, random_state = 42)\n",
    "base_model.fit(train, y)\n",
    "base_accuracy = evaluate(base_model, train, y)\n",
    "\n",
    "\n",
    "best_random = rf_random.best_estimator_\n",
    "random_accuracy = evaluate(best_random, train, y)\n",
    "\n",
    "print('Improvement of {:0.2f}%.'.format( 100 * (random_accuracy - base_accuracy) / base_accuracy))\n",
    "print('Tuned model Score: ', best_random.score(train, y))\n",
    "print('Base model Score: ', base_model.score(train, y))"
   ]
  },
  {
   "cell_type": "markdown",
   "metadata": {},
   "source": [
    "## Present your solution"
   ]
  },
  {
   "cell_type": "markdown",
   "metadata": {},
   "source": [
    "Modellen jeg endte opp med er random forest. Denne modellen ga det mest lovende resultatet, fra begynnelsen av. Jeg tunet modellen med ulike hyperparametere. Når jeg brukte modell score funksjonen, så kan vi se at modellen vår beskriver rundt 98% av datasettet. \n",
    "\n",
    "Dette resultatet er vel kanskje for bra for å være sant, og dette er det en grunn til. Siden jeg ikke har brukt evaluation set eller test settet"
   ]
  }
 ],
 "metadata": {
  "kernelspec": {
   "display_name": "Python 3",
   "language": "python",
   "name": "python3"
  },
  "language_info": {
   "codemirror_mode": {
    "name": "ipython",
    "version": 3
   },
   "file_extension": ".py",
   "mimetype": "text/x-python",
   "name": "python",
   "nbconvert_exporter": "python",
   "pygments_lexer": "ipython3",
   "version": "3.7.1"
  }
 },
 "nbformat": 4,
 "nbformat_minor": 2
}
